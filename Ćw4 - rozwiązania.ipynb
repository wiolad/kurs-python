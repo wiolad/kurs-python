{
 "cells": [
  {
   "cell_type": "markdown",
   "source": [
    "#### Ćwiczenie 3.1: Napisz instrukcję warunkową, która sprawdza czy sekwencja DNA zawiera sekwencje 'AGT' po czym zwraca ich liczbę oraz tekst z informacją w przypadku ich braku\n",
    "Podpowiedź: do zliczania wystąpień fragmentów tekstu można użyć funkcji count. Wynik funkcji najlepiej zapisać pod zmienną.\n",
    "- sekwencja DNA: ACCTGAGTGATGATGCCATGAAGTCCATGAATAAGTGACAATGACAGTACTAG"
   ],
   "metadata": {
    "collapsed": false
   }
  },
  {
   "cell_type": "code",
   "execution_count": 3,
   "outputs": [
    {
     "name": "stdout",
     "output_type": "stream",
     "text": [
      "Sekwencja DNA zawiera 2 wyrażenia AGT\n"
     ]
    }
   ],
   "source": [
    "dna = 'ACCTGATGGATGATGCCATGAAGTCCATGAATAAGTGACAATGACATGACTAG'\n",
    "if 'AGT' in dna:\n",
    "    liczba=dna.count('AGT')\n",
    "    print('Sekwencja DNA zawiera '+str(liczba)+' wyrażenia AGT')\n",
    "else:\n",
    "    print('Brak AGT w sekwencji DNA')"
   ],
   "metadata": {
    "collapsed": false
   }
  },
  {
   "cell_type": "markdown",
   "source": [
    "#### Ćwiczenie 3.2: Napisz instrukcję warunkową, która sprawdza czy sekwencja DNA z ćwiczenia 1 zawiera ciąg 'AGT' i zwraca ich liczbę oraz ma ponad 20 nukleotydów długości. Polecenie wykonaj korzystając z instrukcji elif - uwzględnij każdą ewentualność, także brak sekwencji 'AGT'"
   ],
   "metadata": {
    "collapsed": false
   }
  },
  {
   "cell_type": "code",
   "execution_count": null,
   "outputs": [],
   "source": [
    "dna = 'ACCTGATGGATGATGCCATGAAGTCCATGAATAAGTGACAATGACATGACTAG'\n",
    "\n",
    "if 'AG' in dna and len(dna)>20:\n",
    "    print('Sekwencja DNA zawiera ponad 20 nukleotydów i '+str(dna.count('AG'))+' wyrażenia AG')\n",
    "elif 'AG' in dna and len(dna)<=20:\n",
    "    print('Sekwencja DNA zawiera nie więcej niż 20 nukleotydów i '+str(dna.count('AG'))+' wyrażenia AG')\n",
    "else:\n",
    "    print('Brak wyrażenia AG')"
   ],
   "metadata": {
    "collapsed": false
   }
  },
  {
   "cell_type": "markdown",
   "source": [
    "#### Ćwiczenie 3.3: Stwórz pętle, która losowo dodaje kolejne nukleotydy do sekwencji DNA dopóki nie przekroczy ona 200 pz. Zacznij od sekwencji AATCG"
   ],
   "metadata": {
    "collapsed": false
   }
  },
  {
   "cell_type": "code",
   "execution_count": null,
   "outputs": [],
   "source": [
    "# Podpowiedź: do losowania z listy zawierającej nukleotydy możesz użyć funckji random.choice, poniżej przykład:\n",
    "# Funkcja random.choice losowo wybiera element listy i nie znajduje się w bibliotece standardowej\n",
    "# Wymaga zaimportowania biblioteki random, w której znajduje się wiele metod do losowania. Do wczytywania biblioteki używamy \"import\" oraz nazwy biblioteki jak poniżej\n",
    "lista = [4,3,2,4,1,6,7,8]\n",
    "import random\n",
    "random.choice(lista)\n",
    "\n",
    "# Wywołaj tą komórkę kilka razy, uzyskane liczby poiwnny sie zmieniać"
   ],
   "metadata": {
    "collapsed": false
   }
  },
  {
   "cell_type": "markdown",
   "source": [
    "#### Ćwiczenie 3.4: Stwórz listę zawierającą 5 dowolnych imion a następnie:\n",
    "- A. Wyświetl je wszystkie po kolej za pomocą pętli for\n",
    "- B. Do pętli dodaj warunek - jeżeli imię jest dłuższe niż 5 znaków zwróć taką informację w konsoli. Informację zwróć pełnym zdaniem np Imię Jacek ma 5 liter"
   ],
   "metadata": {
    "collapsed": false
   }
  },
  {
   "cell_type": "markdown",
   "source": [
    "#### Ćw 3.5. W ciągu fibonacciego każdy kolejny wyraz jest sumą dwóch poprzednich. Zaczynamy od F1 = 1 oraz F2 =1.  Wzór: Fn=Fn−1+Fn−2. Kilka pierwszych wyrazów:\n",
    "- pierwszy wyraz ciągu (F1) = 1\n",
    "- drugi wyraz ciągu (F2) = 1\n",
    "- trzeci wyraz ciągu  (F3) = 2 (suma F1 + F2)\n",
    "- czwarty wyraz ciągu (F4) = 3 (suma F2 i F3)   itd...\n",
    "\n",
    "##### A. Korzystając z pętli while zapisz do listy kolejne wyrazy ciągu fibonacciego, tak aby ostatni wyraz ciągu był nie większy niż 10000\n",
    "##### B. Korzystając z pętli for zapisz do listy pierwsze 20 wyrazów ciągu fibonacciego"
   ],
   "metadata": {
    "collapsed": false
   }
  },
  {
   "cell_type": "code",
   "execution_count": 1,
   "outputs": [
    {
     "name": "stdout",
     "output_type": "stream",
     "text": [
      "[1, 1, 2, 3, 5, 8, 13, 21, 34, 55, 89, 144, 233, 377, 610, 987, 1597, 2584, 4181, 6765]\n"
     ]
    }
   ],
   "source": [
    "# Zadanie 4.1. A\n",
    "fib=[1,1]\n",
    "while (fib[-1]+fib[-2])<10000:\n",
    "    fib.append(fib[-1]+fib[-2])\n",
    "print(fib)"
   ],
   "metadata": {
    "collapsed": false
   }
  },
  {
   "cell_type": "code",
   "execution_count": null,
   "outputs": [],
   "source": [
    "# Zadanie 4.1. B\n",
    "fib=[1,1]\n",
    "for i in range(1,19):\n",
    "    fib.append(fib[i]+fib[i-1])\n",
    "\n",
    "print(len(fib))\n",
    "print(fib)"
   ],
   "metadata": {
    "collapsed": false
   }
  }
 ],
 "metadata": {
  "kernelspec": {
   "display_name": "Python 3",
   "language": "python",
   "name": "python3"
  },
  "language_info": {
   "codemirror_mode": {
    "name": "ipython",
    "version": 2
   },
   "file_extension": ".py",
   "mimetype": "text/x-python",
   "name": "python",
   "nbconvert_exporter": "python",
   "pygments_lexer": "ipython2",
   "version": "2.7.6"
  }
 },
 "nbformat": 4,
 "nbformat_minor": 0
}
