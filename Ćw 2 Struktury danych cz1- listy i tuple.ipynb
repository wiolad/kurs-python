{
 "cells": [
  {
   "cell_type": "markdown",
   "metadata": {},
   "source": [
    "# Ćwiczenia 2 - Struktury danych - sekwencje - listy i tuple"
   ]
  },
  {
   "cell_type": "markdown",
   "metadata": {},
   "source": [
    "#### Formatowanie tekstu\n",
    "Źródło cytatu: https://www.youtube.com/watch?v=0D7hFHfLEyk"
   ]
  },
  {
   "cell_type": "markdown",
   "metadata": {},
   "source": [
    "##### Stara szkoła %-formating"
   ]
  },
  {
   "cell_type": "code",
   "execution_count": 2,
   "metadata": {},
   "outputs": [
    {
     "name": "stdout",
     "output_type": "stream",
     "text": [
      "Stój! Kto chce przez Most Śmierci przejść, musi odpowiedzieć na te pytania cztery… i wtedy drugą stronę zobaczy!\n"
     ]
    }
   ],
   "source": [
    "# Formatowanie tekstu\n",
    "co = 'Most Śmierci'\n",
    "pytania = 'cztery'\n",
    "\n",
    "cytat = \"Stój! Kto chce przez %s przejść, musi odpowiedzieć na te pytania %s… i wtedy drugą stronę zobaczy!\" % (co,pytania)\n",
    "print(cytat)"
   ]
  },
  {
   "cell_type": "markdown",
   "metadata": {},
   "source": [
    "##### Ulepszenie - metoda str.format"
   ]
  },
  {
   "cell_type": "code",
   "execution_count": 7,
   "metadata": {},
   "outputs": [
    {
     "name": "stdout",
     "output_type": "stream",
     "text": [
      "Stój! Kto chce przez Most Śmierci Most Śmierci Most Śmierci przejść, musi odpowiedzieć na te pytania trzy… i wtedy drugą stronę zobaczy!\n"
     ]
    }
   ],
   "source": [
    "# Formatowanie tekstu\n",
    "co = 'Most Śmierci'\n",
    "pytania = 'trzy'\n",
    "\n",
    "#cytat = \"Stój! Kto chce przez {} przejść, musi odpowiedzieć na te pytania {}… i wtedy drugą stronę zobaczy!\".format(co,pytania)\n",
    "#print(cytat)\n",
    "\n",
    "# Można sprecyzować, który element wstawić w danym miejscu\n",
    "cytat = \"Stój! Kto chce przez {0} {0} {0} przejść, musi odpowiedzieć na te pytania {1}… i wtedy drugą stronę zobaczy!\"\n",
    "print(cytat.format(co, pytania))"
   ]
  },
  {
   "cell_type": "markdown",
   "metadata": {},
   "source": [
    "##### Najnowsza metoda - f-string (od Python ver3.6)"
   ]
  },
  {
   "cell_type": "code",
   "execution_count": 8,
   "metadata": {},
   "outputs": [
    {
     "name": "stdout",
     "output_type": "stream",
     "text": [
      "Stój! Kto chce przez Most Śmierci przejść, musi odpowiedzieć na te pytania 3… i wtedy drugą stronę zobaczy!\n"
     ]
    }
   ],
   "source": [
    "co = 'Most Śmierci'\n",
    "pytania = 3\n",
    "cytat = f\"Stój! Kto chce przez {co} przejść, musi odpowiedzieć na te pytania {pytania}… i wtedy drugą stronę zobaczy!\"\n",
    "print(cytat)"
   ]
  },
  {
   "cell_type": "markdown",
   "metadata": {},
   "source": [
    "## Listy"
   ]
  },
  {
   "cell_type": "markdown",
   "metadata": {},
   "source": [
    "Są to uporządkowane sekwencje, które mogą przechowywać różne typy obiektów.\n",
    "Obiekty te używają nawiasów [ ] do przechowywania danych oraz przecinków, do rozdzielenia elementów listy.\n",
    "\n",
    "Podobnie jak zmienne tekstowe mogą być indeksowane oraz cięte (slicing), posiadają też dużo dedykowanych metod."
   ]
  },
  {
   "cell_type": "code",
   "execution_count": 13,
   "metadata": {},
   "outputs": [
    {
     "name": "stdout",
     "output_type": "stream",
     "text": [
      "['a', 'b', 'c']\n"
     ]
    }
   ],
   "source": [
    "a=['d','b','c']\n",
    "a[0]='a'\n",
    "print(a)"
   ]
  },
  {
   "cell_type": "markdown",
   "metadata": {},
   "source": [
    "Listy są:\n",
    "1. Uporządkowane\n",
    "2. Mogą zawierać dowolne obiekty\n",
    "3. Elementy listy są dostępne poprzez indeksowanie\n",
    "4. Mogą być zagnieżdzone do dowolnego poziomu\n",
    "5. Ich elementy mogą się zmieniać\n",
    "6. Są dynamiczne"
   ]
  },
  {
   "attachments": {
    "Indexing.png": {
     "image/png": "[encoded data removed]"
    }
   },
   "cell_type": "markdown",
   "metadata": {},
   "source": [
    "![Indexing.png](attachment:Indexing.png)"
   ]
  },
  {
   "cell_type": "code",
   "execution_count": 26,
   "metadata": {},
   "outputs": [],
   "source": [
    "# Listy mogą przechowywać jeden typ zmiennej\n",
    "a = [1,2,3]\n",
    "\n",
    "# Lub zupełnie różne\n",
    "lista2 = [1,'2',True]\n",
    "\n",
    "#lista = [[1,2],[3,4]]"
   ]
  },
  {
   "cell_type": "code",
   "execution_count": 15,
   "metadata": {},
   "outputs": [
    {
     "data": {
      "text/plain": [
       "False"
      ]
     },
     "execution_count": 15,
     "metadata": {},
     "output_type": "execute_result"
    }
   ],
   "source": [
    "# Kolejność elementów jest ważna\n",
    "[1, 2, 3, 4] == [4, 1, 3, 2]"
   ]
  },
  {
   "cell_type": "code",
   "execution_count": 19,
   "metadata": {},
   "outputs": [
    {
     "data": {
      "text/plain": [
       "['A', 'A', 'A', 'A', 'A']"
      ]
     },
     "execution_count": 19,
     "metadata": {},
     "output_type": "execute_result"
    }
   ],
   "source": [
    "# Można je mnożyć\n",
    "['A'] * 5"
   ]
  },
  {
   "cell_type": "code",
   "execution_count": 23,
   "metadata": {},
   "outputs": [
    {
     "data": {
      "text/plain": [
       "[1, 2, 3, 1, '2', True]"
      ]
     },
     "execution_count": 23,
     "metadata": {},
     "output_type": "execute_result"
    }
   ],
   "source": [
    "# Można je łączyć podobnie jak tekst\n",
    "lista + lista2"
   ]
  },
  {
   "cell_type": "code",
   "execution_count": 24,
   "metadata": {},
   "outputs": [
    {
     "data": {
      "text/plain": [
       "3"
      ]
     },
     "execution_count": 24,
     "metadata": {},
     "output_type": "execute_result"
    }
   ],
   "source": [
    "# Liczba elementów w liście\n",
    "len(lista)"
   ]
  },
  {
   "cell_type": "code",
   "execution_count": 29,
   "metadata": {},
   "outputs": [
    {
     "data": {
      "text/plain": [
       "list"
      ]
     },
     "execution_count": 29,
     "metadata": {},
     "output_type": "execute_result"
    }
   ],
   "source": [
    "# Sprawdzamy typ zmiennej\n",
    "type(a)"
   ]
  },
  {
   "cell_type": "code",
   "execution_count": 30,
   "metadata": {},
   "outputs": [
    {
     "data": {
      "text/plain": [
       "[5, 2, 3]"
      ]
     },
     "execution_count": 30,
     "metadata": {},
     "output_type": "execute_result"
    }
   ],
   "source": [
    "# Różnica między listą oraz tekstem: listy są modyfikowalne! To oznacza, że można zmieniać elementy w istniejącej liście.\n",
    "lista[0]=5\n",
    "lista"
   ]
  },
  {
   "cell_type": "markdown",
   "metadata": {},
   "source": [
    "### Przykładowe metody klasy list"
   ]
  },
  {
   "cell_type": "code",
   "execution_count": 31,
   "metadata": {},
   "outputs": [],
   "source": [
    "# Sprawdzamy dostępne metody przyciskiem tab\n",
    "a = [1,2,3]\n",
    "a."
   ]
  },
  {
   "cell_type": "markdown",
   "metadata": {},
   "source": [
    "##### Dodawanie elementów"
   ]
  },
  {
   "cell_type": "code",
   "execution_count": 37,
   "metadata": {},
   "outputs": [],
   "source": [
    "lista = ['a','b','c','d','e']"
   ]
  },
  {
   "cell_type": "code",
   "execution_count": 33,
   "metadata": {},
   "outputs": [
    {
     "name": "stdout",
     "output_type": "stream",
     "text": [
      "['a', 'b', 'c', 'd', 'e', 'dodane']\n"
     ]
    }
   ],
   "source": [
    "# Dodawanie elementów na koniec listy\n",
    "lista.append('dodane')\n",
    "print(lista)"
   ]
  },
  {
   "cell_type": "code",
   "execution_count": 35,
   "metadata": {},
   "outputs": [
    {
     "name": "stdout",
     "output_type": "stream",
     "text": [
      "['a', 'b', 'c', 'd', 'e', 'dodane', [1, 2, 3], 1, 2, 3]\n"
     ]
    }
   ],
   "source": [
    "#lista.append([1, 2, 3])\n",
    "lista.extend([1, 2, 3])\n",
    "print(lista)"
   ]
  },
  {
   "cell_type": "code",
   "execution_count": 36,
   "metadata": {},
   "outputs": [
    {
     "name": "stdout",
     "output_type": "stream",
     "text": [
      "['a', 'x', 'b', 'c', 'd', 'e', 'dodane', [1, 2, 3], 1, 2, 3]\n"
     ]
    }
   ],
   "source": [
    "# Dodawanie elementów w dowolne miejsce listy: insert(indeks, element)\n",
    "lista.insert(1,'x')\n",
    "print(lista)"
   ]
  },
  {
   "cell_type": "code",
   "execution_count": 38,
   "metadata": {},
   "outputs": [],
   "source": [
    "lista[1]='x'"
   ]
  },
  {
   "cell_type": "code",
   "execution_count": 39,
   "metadata": {},
   "outputs": [
    {
     "name": "stdout",
     "output_type": "stream",
     "text": [
      "['a', 'x', 'c', 'd', 'e']\n"
     ]
    }
   ],
   "source": [
    "print(lista)"
   ]
  },
  {
   "cell_type": "markdown",
   "metadata": {},
   "source": [
    "##### Usuwanie elementów"
   ]
  },
  {
   "cell_type": "code",
   "execution_count": 43,
   "metadata": {},
   "outputs": [],
   "source": [
    "lista = ['a','b','c','d','e']"
   ]
  },
  {
   "cell_type": "code",
   "execution_count": 41,
   "metadata": {},
   "outputs": [
    {
     "name": "stdout",
     "output_type": "stream",
     "text": [
      "e\n",
      "a\n",
      "['b', 'c', 'd']\n"
     ]
    }
   ],
   "source": [
    "print(lista.pop())\n",
    "print(lista.pop(0))\n",
    "print(lista)\n",
    "# domyślnie dla pop jest -1 czyli usuwany jest ostatni element"
   ]
  },
  {
   "cell_type": "code",
   "execution_count": 44,
   "metadata": {},
   "outputs": [
    {
     "name": "stdout",
     "output_type": "stream",
     "text": [
      "None\n"
     ]
    }
   ],
   "source": [
    "#lista.remove(1)\n",
    "print(lista.remove('b'))\n",
    "#print(lista)"
   ]
  },
  {
   "cell_type": "markdown",
   "metadata": {},
   "source": [
    "##### Inne przykładowe metody"
   ]
  },
  {
   "cell_type": "code",
   "execution_count": 2,
   "metadata": {},
   "outputs": [
    {
     "name": "stdout",
     "output_type": "stream",
     "text": [
      "['a', 'd', 'e', 'w']\n"
     ]
    },
    {
     "data": {
      "text/plain": [
       "['a', 'd', 'e', 'w']"
      ]
     },
     "execution_count": 2,
     "metadata": {},
     "output_type": "execute_result"
    }
   ],
   "source": [
    "# Sortowanie\n",
    "lista = ['d','e','w','a']\n",
    "\n",
    "# Sotujemy w miejscu (nie tworzymy kopii)\n",
    "lista.sort()\n",
    "print(lista)\n",
    "\n",
    "# Sortowanie poprzez tworzenie nowej listy i zwracanie\n",
    "sorted(lista)"
   ]
  },
  {
   "cell_type": "code",
   "execution_count": null,
   "metadata": {},
   "outputs": [],
   "source": [
    "# sortowanie w kolejności malejącej\n",
    "lista.sort(reverse=True)\n",
    "# dotyczy również funkcji sorted()"
   ]
  },
  {
   "cell_type": "code",
   "execution_count": 6,
   "metadata": {},
   "outputs": [
    {
     "name": "stdout",
     "output_type": "stream",
     "text": [
      "['a', 'kb', 'zbc', 'abcd']\n"
     ]
    }
   ],
   "source": [
    "# sortowanie po długości\n",
    "lista = ['a','zbc','kb','abcd']\n",
    "lista.sort(key=len)\n",
    "print(lista)"
   ]
  },
  {
   "cell_type": "code",
   "execution_count": 68,
   "metadata": {},
   "outputs": [
    {
     "data": {
      "text/plain": [
       "['w', 'e', 'd', 'a']"
      ]
     },
     "execution_count": 68,
     "metadata": {},
     "output_type": "execute_result"
    }
   ],
   "source": [
    "# Odwracanie listy\n",
    "#lista.reverse()\n",
    "lista.reverse()\n",
    "# Inny sposób\n",
    "lista[::-1]"
   ]
  },
  {
   "cell_type": "code",
   "execution_count": 69,
   "metadata": {},
   "outputs": [
    {
     "data": {
      "text/plain": [
       "False"
      ]
     },
     "execution_count": 69,
     "metadata": {},
     "output_type": "execute_result"
    }
   ],
   "source": [
    "# Sprawdzanie czy element jest na liście?\n",
    "1 in lista"
   ]
  },
  {
   "cell_type": "code",
   "execution_count": 71,
   "metadata": {},
   "outputs": [
    {
     "name": "stdout",
     "output_type": "stream",
     "text": [
      "['a', 'd', 'e', 'w']\n"
     ]
    }
   ],
   "source": [
    "# Zwracanie indeksu dla danego elementu\n",
    "lista.index('e')\n",
    "print(lista)"
   ]
  },
  {
   "cell_type": "markdown",
   "metadata": {},
   "source": [
    "#### Ćwiczenie 1\n",
    "- Utwórz listę, która będzie zawierać trzy imiona: Ania, Janek, Zosia\n",
    "- Dodaj imię na końcu listy: Kasia\n",
    "- Dodaj imię na początku listy: Ola\n",
    "- Usuń z listy trzeci element\n",
    "- Wyświetl liczbę elementów listy\n",
    "- Sprawdź czy na liście są następujące imiona (osobno dla każdego): Ania, Jan, Kasia\n"
   ]
  },
  {
   "cell_type": "code",
   "execution_count": 74,
   "metadata": {},
   "outputs": [],
   "source": [
    "lista = ['Ania','Janek','Zosia']"
   ]
  },
  {
   "cell_type": "code",
   "execution_count": 75,
   "metadata": {},
   "outputs": [],
   "source": [
    "lista.append(\"Kasia\")"
   ]
  },
  {
   "cell_type": "code",
   "execution_count": 78,
   "metadata": {},
   "outputs": [],
   "source": [
    "lista.insert(0,'Ola')"
   ]
  },
  {
   "cell_type": "code",
   "execution_count": 80,
   "metadata": {},
   "outputs": [
    {
     "data": {
      "text/plain": [
       "'Zosia'"
      ]
     },
     "execution_count": 80,
     "metadata": {},
     "output_type": "execute_result"
    }
   ],
   "source": [
    "lista.pop(3)"
   ]
  },
  {
   "cell_type": "code",
   "execution_count": 81,
   "metadata": {},
   "outputs": [
    {
     "data": {
      "text/plain": [
       "4"
      ]
     },
     "execution_count": 81,
     "metadata": {},
     "output_type": "execute_result"
    }
   ],
   "source": [
    "len(lista)"
   ]
  },
  {
   "cell_type": "code",
   "execution_count": 82,
   "metadata": {},
   "outputs": [
    {
     "name": "stdout",
     "output_type": "stream",
     "text": [
      "['Ola', 'Ania', 'Janek', 'Kasia']\n"
     ]
    }
   ],
   "source": [
    "print(lista)"
   ]
  },
  {
   "cell_type": "markdown",
   "metadata": {},
   "source": [
    "### Tekst a lista - funkcje split i join"
   ]
  },
  {
   "cell_type": "markdown",
   "metadata": {},
   "source": [
    "Funkcja split dzieli ciag znaków na listę, natomiast funkcja join zmienia listę w tekst. Jako argumenty funkcji podajemy odpowiednio separator oraz element łączący. "
   ]
  },
  {
   "cell_type": "code",
   "execution_count": 97,
   "metadata": {},
   "outputs": [],
   "source": [
    "piosenka = 'Zawsze patrz na jasną stronę życia!'"
   ]
  },
  {
   "cell_type": "code",
   "execution_count": 98,
   "metadata": {},
   "outputs": [
    {
     "name": "stdout",
     "output_type": "stream",
     "text": [
      "['Zawsze', 'patrz', 'na', 'jasną', 'stronę', 'życia!']\n"
     ]
    }
   ],
   "source": [
    "# Zmiana tekstu na listę (domyślnie dzieli po spacjach): \n",
    "podzielona = piosenka.split()\n",
    "print(podzielona)"
   ]
  },
  {
   "cell_type": "code",
   "execution_count": 99,
   "metadata": {},
   "outputs": [],
   "source": [
    "podzielona[0] = 'Czasami'"
   ]
  },
  {
   "cell_type": "code",
   "execution_count": 100,
   "metadata": {},
   "outputs": [
    {
     "data": {
      "text/plain": [
       "'Czasami patrz na jasną stronę życia!'"
      ]
     },
     "execution_count": 100,
     "metadata": {},
     "output_type": "execute_result"
    }
   ],
   "source": [
    "# Zmiana listy na tekst\n",
    "# Najpierw podajemy jak połączyć elementy listy, a dopiero później listę jako argument funkcji join\n",
    "# Pomiędzy elementy listy wstawiamy spacje ' '\n",
    "' '.join(podzielona)"
   ]
  },
  {
   "cell_type": "markdown",
   "metadata": {},
   "source": [
    "#### Ćwiczenie 2\n",
    "Źródło cytatu: https://www.youtube.com/watch?v=vZw35VUBdzo\n",
    "\n",
    "cytat: \"Tej papugi już nie ma! Przestała istnieć! Odeszła na spotkanie ze swoim stwórcą! To zdechła papuga! Sztywniak! Opuściło ją życie, teraz spoczywa w spokoju! Gdyby nie przybił jej pan do grzędy, wąchałaby kwiatki od spodu! Strzeliła w kalendarz i śpiewa teraz w anielskim chórze! To jest ex-papuga!\"\n",
    "\n",
    "Polecenia:\n",
    "1. Zamień powyższy cytat na listę dzieląc po wykrzyknikach\n",
    "2. Usuń ostatni element listy\n",
    "3. Zwróć indeks dla \"Sztywniak\"\n",
    "4. Utwórz nową listę, która zawiera co drugi element zaczynając od 3\n",
    "5. Połącz elementy listy w jeden tekst wstawiając wykrzykniki"
   ]
  },
  {
   "cell_type": "code",
   "execution_count": 101,
   "metadata": {},
   "outputs": [],
   "source": [
    "cytat = \"Tej papugi już nie ma! Przestała istnieć! Odeszła na spotkanie ze swoim stwórcą! To zdechła papuga! Sztywniak! Opuściło ją życie, teraz spoczywa w spokoju! Gdyby nie przybił jej pan do grzędy, wąchałaby kwiatki od spodu! Strzeliła w kalendarz i śpiewa teraz w anielskim chórze! To jest ex-papuga!\""
   ]
  },
  {
   "cell_type": "code",
   "execution_count": 102,
   "metadata": {},
   "outputs": [],
   "source": [
    "lista = cytat.split('!')"
   ]
  },
  {
   "cell_type": "code",
   "execution_count": 104,
   "metadata": {},
   "outputs": [
    {
     "data": {
      "text/plain": [
       "''"
      ]
     },
     "execution_count": 104,
     "metadata": {},
     "output_type": "execute_result"
    }
   ],
   "source": [
    "lista.pop()"
   ]
  },
  {
   "cell_type": "code",
   "execution_count": 110,
   "metadata": {},
   "outputs": [
    {
     "data": {
      "text/plain": [
       "4"
      ]
     },
     "execution_count": 110,
     "metadata": {},
     "output_type": "execute_result"
    }
   ],
   "source": [
    "lista.index(' Sztywniak')"
   ]
  },
  {
   "cell_type": "code",
   "execution_count": 111,
   "metadata": {},
   "outputs": [],
   "source": [
    "lista2 = lista[3::2]"
   ]
  },
  {
   "cell_type": "code",
   "execution_count": 113,
   "metadata": {},
   "outputs": [
    {
     "data": {
      "text/plain": [
       "' To zdechła papuga! Opuściło ją życie, teraz spoczywa w spokoju! Strzeliła w kalendarz i śpiewa teraz w anielskim chórze'"
      ]
     },
     "execution_count": 113,
     "metadata": {},
     "output_type": "execute_result"
    }
   ],
   "source": [
    "'!'.join(lista2)"
   ]
  },
  {
   "cell_type": "markdown",
   "metadata": {},
   "source": [
    "### Zagnieżdzone listy\n",
    "Można wykorzystać do utworzenia macierzy w pythonie. Indeksowanie macierzy:\n",
    "\n",
    "Info: jeżeli mamy bardzo dużo elementów w macierzy i zależy nam na szybkości lepsza będzie biblioteka numpy"
   ]
  },
  {
   "attachments": {
    "Matrix.png": {
     "image/png": "[encoded data removed]"
    }
   },
   "cell_type": "markdown",
   "metadata": {},
   "source": [
    "![Matrix.png](attachment:Matrix.png)"
   ]
  },
  {
   "cell_type": "code",
   "execution_count": 114,
   "metadata": {},
   "outputs": [],
   "source": [
    "# Zagnieżdzona lista - można wykorzystać do utworzenia macierzy w pythonie\n",
    "tablica1=[[1,2],[3,4]]"
   ]
  },
  {
   "cell_type": "code",
   "execution_count": 115,
   "metadata": {},
   "outputs": [
    {
     "name": "stdout",
     "output_type": "stream",
     "text": [
      "[[1, 2], [3, 4]]\n"
     ]
    }
   ],
   "source": [
    "print(tablica1)"
   ]
  },
  {
   "cell_type": "code",
   "execution_count": 116,
   "metadata": {},
   "outputs": [],
   "source": [
    "# Można również połączyć istniejące listy\n",
    "lista_1 = [1, 2, 3]\n",
    "lista_2 = [4, 5, 6]\n",
    "lista_3 = [7, 8, 9]\n",
    " \n",
    "# Łączmy je w jedną macierz\n",
    "tablica2 = [lista_1, lista_2, lista_3]"
   ]
  },
  {
   "cell_type": "code",
   "execution_count": 117,
   "metadata": {},
   "outputs": [
    {
     "name": "stdout",
     "output_type": "stream",
     "text": [
      "[[1, 2, 3], [4, 5, 6], [7, 8, 9]]\n"
     ]
    }
   ],
   "source": [
    "print(tablica2)"
   ]
  },
  {
   "cell_type": "code",
   "execution_count": 122,
   "metadata": {},
   "outputs": [
    {
     "name": "stdout",
     "output_type": "stream",
     "text": [
      "[1, 2, 3]\n"
     ]
    },
    {
     "data": {
      "text/plain": [
       "4"
      ]
     },
     "execution_count": 122,
     "metadata": {},
     "output_type": "execute_result"
    }
   ],
   "source": [
    "# Indeksowanie zagnieższonej listy\n",
    "# Pierwszy wiersz macierzy \n",
    "print(tablica2[0])\n",
    "\n",
    "# Pierwszy element (0) z drugiego wiersza (1)\n",
    "tablica2[1][0]"
   ]
  },
  {
   "cell_type": "markdown",
   "metadata": {},
   "source": [
    "#### Ćwiczenie 3\n",
    "Utwórz listę z czterema zagnieżdzonymi listami zawierającą liczby od 1 do 12. Odwołaj się do 3 elementu w drugiej liście."
   ]
  },
  {
   "cell_type": "markdown",
   "metadata": {},
   "source": [
    "## Tuple (krotki)\n",
    "Tuple to listy bez możliwości modyfikacji. Część metod można zastosować na obu typach, wyłączając te, które modyfikują zawartość jak pop, append itd. Używamy, kiedy nie chcemy aby elementy listy były modyfikowane, mogą wtedy np. służyć za klucz w słowniku. Tuple są również szybsze niż listy."
   ]
  },
  {
   "cell_type": "code",
   "execution_count": 124,
   "metadata": {},
   "outputs": [
    {
     "data": {
      "text/plain": [
       "3"
      ]
     },
     "execution_count": 124,
     "metadata": {},
     "output_type": "execute_result"
    }
   ],
   "source": [
    "tupla1 = (1,2,3)\n",
    "len(tupla1)"
   ]
  },
  {
   "cell_type": "code",
   "execution_count": 125,
   "metadata": {},
   "outputs": [
    {
     "data": {
      "text/plain": [
       "False"
      ]
     },
     "execution_count": 125,
     "metadata": {},
     "output_type": "execute_result"
    }
   ],
   "source": [
    "(1,2,3) == (3,2,1)"
   ]
  },
  {
   "cell_type": "code",
   "execution_count": null,
   "metadata": {},
   "outputs": [],
   "source": [
    "tupla1."
   ]
  },
  {
   "cell_type": "code",
   "execution_count": 126,
   "metadata": {},
   "outputs": [
    {
     "data": {
      "text/plain": [
       "1"
      ]
     },
     "execution_count": 126,
     "metadata": {},
     "output_type": "execute_result"
    }
   ],
   "source": [
    "# Indeksowanie\n",
    "tupla1[0]"
   ]
  },
  {
   "cell_type": "code",
   "execution_count": null,
   "metadata": {},
   "outputs": [],
   "source": [
    "# Jakie metody są dostępne (używamy tab!)\n",
    "tupla1."
   ]
  },
  {
   "cell_type": "code",
   "execution_count": 127,
   "metadata": {},
   "outputs": [
    {
     "data": {
      "text/plain": [
       "2"
      ]
     },
     "execution_count": 127,
     "metadata": {},
     "output_type": "execute_result"
    }
   ],
   "source": [
    "tupla2 = ('a','a','c','d','e')\n",
    "\n",
    "# Zliczanie\n",
    "tupla2.count('a')"
   ]
  },
  {
   "cell_type": "code",
   "execution_count": 128,
   "metadata": {},
   "outputs": [
    {
     "data": {
      "text/plain": [
       "3"
      ]
     },
     "execution_count": 128,
     "metadata": {},
     "output_type": "execute_result"
    }
   ],
   "source": [
    "# Zwracanie indeksu elementu\n",
    "tupla2.index('d')"
   ]
  },
  {
   "cell_type": "code",
   "execution_count": 129,
   "metadata": {},
   "outputs": [
    {
     "ename": "TypeError",
     "evalue": "'tuple' object does not support item assignment",
     "output_type": "error",
     "traceback": [
      "\u001B[1;31m---------------------------------------------------------------------------\u001B[0m",
      "\u001B[1;31mTypeError\u001B[0m                                 Traceback (most recent call last)",
      "\u001B[1;32m~\\AppData\\Local\\Temp\\ipykernel_9232\\2401739090.py\u001B[0m in \u001B[0;36m<module>\u001B[1;34m\u001B[0m\n\u001B[0;32m      1\u001B[0m \u001B[1;31m# Brak możliwości modyfikacji!\u001B[0m\u001B[1;33m\u001B[0m\u001B[1;33m\u001B[0m\u001B[1;33m\u001B[0m\u001B[0m\n\u001B[1;32m----> 2\u001B[1;33m \u001B[0mtupla2\u001B[0m\u001B[1;33m[\u001B[0m\u001B[1;36m0\u001B[0m\u001B[1;33m]\u001B[0m\u001B[1;33m=\u001B[0m\u001B[1;36m2\u001B[0m\u001B[1;33m\u001B[0m\u001B[1;33m\u001B[0m\u001B[0m\n\u001B[0m",
      "\u001B[1;31mTypeError\u001B[0m: 'tuple' object does not support item assignment"
     ]
    }
   ],
   "source": [
    "# Brak możliwości modyfikacji!\n",
    "tupla2[0]=2"
   ]
  },
  {
   "cell_type": "code",
   "execution_count": null,
   "metadata": {},
   "outputs": [],
   "source": [
    "# Aby zamienić element tupli należy zamienić go na listę, a potem z powrotem na tuple\n",
    "lista = list(tupla2)\n",
    "lista[1] = \"x\"\n",
    "tupla3 = tuple(lista)\n",
    "\n",
    "print(tupla3) "
   ]
  },
  {
   "cell_type": "markdown",
   "metadata": {},
   "source": [
    "#### Ćwiczenie 4\n",
    "1. Z listy utworzonej w punkcie 1 ćwiczenia 2 wybierz przedostatni element i umieść w nowej liście osobne wyrazy (podziel po spacjach)\n",
    "2. Zamień tekst na tuple i sprawdź jej długość\n",
    "3. Zwróć do konsoli indeks wyrazu 'śpiewa'"
   ]
  },
  {
   "cell_type": "markdown",
   "metadata": {},
   "source": [
    "## Dodatek - przykład wykorzystania listy z pętlą for"
   ]
  },
  {
   "cell_type": "code",
   "execution_count": 130,
   "metadata": {},
   "outputs": [
    {
     "name": "stdout",
     "output_type": "stream",
     "text": [
      "Sekwencja AAGT ma długość 4 pz i zawiera 2 tyminy\n",
      "Sekwencja ACCAAA ma długość 6 pz i zawiera 4 tyminy\n",
      "Sekwencja TGTGTAAGG ma długość 9 pz i zawiera 2 tyminy\n",
      "Sekwencja GGTGTAAA ma długość 8 pz i zawiera 3 tyminy\n",
      "Sekwencja TTTTGACCC ma długość 9 pz i zawiera 1 tyminy\n"
     ]
    }
   ],
   "source": [
    "# Przykładowa lista\n",
    "sekwencje = ['AAGT', 'ACCAAA', 'TGTGTAAGG', 'GGTGTAAA', 'TTTTGACCC'] \n",
    "\n",
    "# Długość sekwencji, zliczanie tymin i zamiana na uracyl:\n",
    "for i in sekwencje:\n",
    "    print(\"Sekwencja \"+ i +\" ma długość \"+str(len(i))+ \" pz i zawiera \" + str(i.count('A')) + \" tyminy\")"
   ]
  },
  {
   "cell_type": "code",
   "execution_count": null,
   "metadata": {},
   "outputs": [],
   "source": []
  }
 ],
 "metadata": {
  "kernelspec": {
   "display_name": "Python 3 (ipykernel)",
   "language": "python",
   "name": "python3"
  },
  "language_info": {
   "codemirror_mode": {
    "name": "ipython",
    "version": 3
   },
   "file_extension": ".py",
   "mimetype": "text/x-python",
   "name": "python",
   "nbconvert_exporter": "python",
   "pygments_lexer": "ipython3",
   "version": "3.7.13"
  }
 },
 "nbformat": 4,
 "nbformat_minor": 4
}
