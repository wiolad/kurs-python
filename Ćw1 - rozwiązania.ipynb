{
 "cells": [
  {
   "cell_type": "markdown",
   "metadata": {},
   "source": [
    "#### Ćwiczenie 1\n",
    "Pod zmienną o nazwie \"liczba\" zapisz wartość 8. Następnie zapisz dwa wyrażenia sprawdzające:\n",
    "1. czy liczba jest równa 5?\n",
    "2. czy liczba jest mniejsza od 10?\n",
    "\n",
    "Pokaż wyniki w konsoli używając funkcji print"
   ]
  },
  {
   "cell_type": "code",
   "execution_count": 1,
   "metadata": {},
   "outputs": [
    {
     "name": "stdout",
     "output_type": "stream",
     "text": [
      "False\n",
      "True\n"
     ]
    }
   ],
   "source": [
    "liczba = 8\n",
    "print(liczba == 5)\n",
    "print(liczba < 10)"
   ]
  },
  {
   "cell_type": "markdown",
   "metadata": {},
   "source": [
    "#### Ćwiczenie 2\n",
    "1. Wzór na prędkość w ruchu jednostajnym prostoliniowym to V = s/t gdzie s oznaczono przebytą drogę a t czas. Zakładając, że jaskółka jest w stanie przebyć 100 metrów w 2.5 sekundy oblicz jej prędkość. Drogę, czas oraz prędkość zapisz jako zmienne o nazwach v, s, t. Zwróć wynik do konsoli i sprawdź typ zmiennej wynikowej.\n",
    "2. Sprawdź, czy jaskółka jest tak samo szybka, jak jaskółka afrykańska, która 80 metrów jest w stanie pokonać w 2 sekundy."
   ]
  },
  {
   "cell_type": "code",
   "execution_count": 10,
   "metadata": {},
   "outputs": [
    {
     "name": "stdout",
     "output_type": "stream",
     "text": [
      "40.0\n",
      "40.0\n"
     ]
    },
    {
     "data": {
      "text/plain": [
       "True"
      ]
     },
     "execution_count": 10,
     "metadata": {},
     "output_type": "execute_result"
    }
   ],
   "source": [
    "# Punkt 1\n",
    "s = 100\n",
    "t = 2.5\n",
    "v_jask = s/t\n",
    "print(v_jask)\n",
    "\n",
    "# Punkt 2\n",
    "s = 80\n",
    "t = 2\n",
    "v_jask_afr = s/t\n",
    "print(v_jask_afr)\n",
    "\n",
    "v_jask == v_jask_afr"
   ]
  },
  {
   "cell_type": "markdown",
   "metadata": {},
   "source": [
    "#### Ćwiczenie 3\n",
    "Opisz w komentarzu co dzieje się w poniższych sytuacjach, jakie fragmenty tekstu są wybierane?"
   ]
  },
  {
   "cell_type": "code",
   "execution_count": 11,
   "metadata": {},
   "outputs": [
    {
     "name": "stdout",
     "output_type": "stream",
     "text": [
      "Jaka\n",
      "Jaka\n",
      "jest prędkość lotu jaskółki bez obciążenia?\n",
      "Jae ęo tjkkb cżi\n",
      "aajs\n",
      "?aineżąicbo zeb ikłóksaj utol ćśokdęrp tsej akaJ\n"
     ]
    }
   ],
   "source": [
    "tekst1 = 'Jaka jest prędkość lotu jaskółki bez obciążenia?'\n",
    "\n",
    "# Wycinanie(slicing) wg wzoru [start:stop:step]\n",
    "print(tekst1[0:4])        # pierwsze 4 znaki\n",
    "print(tekst1[:4])         # pierwsze 4 znaki\n",
    "print(tekst1[5:])         # wszystko od znaku 5\n",
    "print(tekst1[::3])        # co trzeci element\n",
    "print(tekst1[1:8:2])      # od 2 do 8 co 2\n",
    "print(tekst1[::-1])       # wszystko od tyłu"
   ]
  },
  {
   "cell_type": "markdown",
   "metadata": {},
   "source": [
    "#### Ćwiczenie 4\n",
    "Zapisz pod zmiennymi następujące cytaty, a następnie na ich podstawie zbuduj i pokaż w konsoli (print) zdanie: Skąd odlatują jaskółki?\n",
    "- cytat1: Skąd macie kokosy?\n",
    "- cytat2: Wszak jaskółki odlatują zimą na słoneczne południe…"
   ]
  },
  {
   "cell_type": "code",
   "execution_count": 11,
   "metadata": {},
   "outputs": [
    {
     "name": "stdout",
     "output_type": "stream",
     "text": [
      "Skąd odlatują jaskółki?\n"
     ]
    }
   ],
   "source": [
    "cytat1 = 'Skąd macie kokosy?'\n",
    "cytat2 = 'Wszak jaskółki odlatują zimą na słoneczne południe…'\n",
    "\n",
    "print(cytat1[:4],cytat2[15:23], cytat2[6:14] + cytat1[-1])"
   ]
  },
  {
   "cell_type": "markdown",
   "metadata": {},
   "source": [
    "#### Ćwiczenie 5"
   ]
  },
  {
   "cell_type": "markdown",
   "metadata": {},
   "source": [
    "Zakładając, że sekwencja zapisana pod zmienną 'dna' jest sekwencją nici kodującej \n",
    "1. utwórz docelową sekwencje mRNA (np. metoda replace)\n",
    "2. sprawdź czy sekwencja zawiera sygnał poliadenylacji 'AATAAA' oraz na której pozycji (np. metoda find)\n",
    "3. dodaj na końcu 3' ogonek poli-A o długości 120 nukleotydów"
   ]
  },
  {
   "cell_type": "code",
   "execution_count": 2,
   "metadata": {},
   "outputs": [],
   "source": [
    "dna=\"AGAAGTGAGTTTTGGATAGTAGAATAAAGTTTCGAACTCTGGCACCTTTCAAAGTTC\""
   ]
  },
  {
   "cell_type": "code",
   "execution_count": 12,
   "metadata": {},
   "outputs": [
    {
     "name": "stdout",
     "output_type": "stream",
     "text": [
      "AGAAGUGAGUUUUGGAUAGUAGAAUAAAGUUUCGAACUCUGGCACCUUUCAAAGUUC\n"
     ]
    }
   ],
   "source": [
    "mrna = dna.replace('T','U')\n",
    "print(mrna)"
   ]
  },
  {
   "cell_type": "code",
   "execution_count": 13,
   "metadata": {},
   "outputs": [
    {
     "data": {
      "text/plain": [
       "22"
      ]
     },
     "execution_count": 13,
     "metadata": {},
     "output_type": "execute_result"
    }
   ],
   "source": [
    "dna.find('AATAAA')"
   ]
  },
  {
   "cell_type": "code",
   "execution_count": 15,
   "metadata": {},
   "outputs": [
    {
     "data": {
      "text/plain": [
       "'AGAAGUGAGUUUUGGAUAGUAGAAUAAAGUUUCGAACUCUGGCACCUUUCAAAGUUCATTUATTUATTUATTUATTUATTUATTUATTUATTUATTUATTUATTUATTUATTUATTUATTUATTUATTUATTUATTUATTUATTUATTUATTUATTUATTUATTUATTUATTUATTUATTUATTUATTUATTUATTUATTUATTUATTUATTUATTUATTUATTUATTUATTUATTUATTUATTUATTUATTUATTUATTUATTUATTUATTUATTUATTUATTUATTUATTUATTUATTUATTUATTUATTUATTUATTUATTUATTUATTUATTUATTUATTUATTUATTUATTUATTUATTUATTUATTUATTUATTUATTUATTUATTUATTUATTUATTUATTUATTUATTUATTUATTUATTUATTUATTUATTUATTUATTUATTUATTUATTUATTUATTUATTUATTUATTUATTUATTUATTUATTUATTUATTUATTUATTUATTUATTUATTUATTUATTUATTU'"
      ]
     },
     "execution_count": 15,
     "metadata": {},
     "output_type": "execute_result"
    }
   ],
   "source": [
    "mrna+'ATTU'*120"
   ]
  },
  {
   "cell_type": "code",
   "execution_count": null,
   "metadata": {},
   "outputs": [],
   "source": []
  }
 ],
 "metadata": {
  "kernelspec": {
   "display_name": "Python 3 (ipykernel)",
   "language": "python",
   "name": "python3"
  },
  "language_info": {
   "codemirror_mode": {
    "name": "ipython",
    "version": 3
   },
   "file_extension": ".py",
   "mimetype": "text/x-python",
   "name": "python",
   "nbconvert_exporter": "python",
   "pygments_lexer": "ipython3",
   "version": "3.7.13"
  }
 },
 "nbformat": 4,
 "nbformat_minor": 1
}
