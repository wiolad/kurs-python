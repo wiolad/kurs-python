{
 "cells": [
  {
   "cell_type": "markdown",
   "source": [
    "#### Ćwiczenie 1\n",
    "Pod zmienną o nazwie \"liczba\" zapisz wartość 8. Następnie zapisz dwa wyrażenia sprawdzające:\n",
    "1. czy liczba jest równa 5?\n",
    "2. czy liczba jest mniejsza od 10?\n",
    "\n",
    "Pokaż wyniki w konsoli używając funkcji print"
   ],
   "metadata": {
    "collapsed": false
   }
  },
  {
   "cell_type": "code",
   "execution_count": 1,
   "outputs": [
    {
     "name": "stdout",
     "output_type": "stream",
     "text": [
      "False\n",
      "True\n"
     ]
    }
   ],
   "source": [
    "liczba = 8\n",
    "print(liczba == 5)\n",
    "print(liczba < 10)"
   ],
   "metadata": {
    "collapsed": false
   }
  },
  {
   "cell_type": "markdown",
   "source": [
    "#### Ćwiczenie 2\n",
    "1. Wzór na prędkość w ruchu jednostajnym prostoliniowym to V = s/t gdzie s oznaczono przebytą drogę a t czas. Zakładając, że jaskółka jest w stanie przebyć 100 metrów w 2.5 sekundy oblicz jej prędkość. Drogę, czas oraz prędkość zapisz jako zmienne o nazwach v, s, t. Zwróć wynik do konsoli i sprawdź typ zmiennej wynikowej.\n",
    "2. Sprawdź, czy jaskółka jest tak samo szybka, jak jaskółka afrykańska, która 80 metrów jest w stanie pokonać w 2 sekundy."
   ],
   "metadata": {
    "collapsed": false
   }
  },
  {
   "cell_type": "code",
   "execution_count": 6,
   "outputs": [
    {
     "name": "stdout",
     "output_type": "stream",
     "text": [
      "40.0\n",
      "40.0\n"
     ]
    },
    {
     "data": {
      "text/plain": "True"
     },
     "execution_count": 6,
     "metadata": {},
     "output_type": "execute_result"
    }
   ],
   "source": [
    "# Punkt 1\n",
    "s = 100\n",
    "t = 2.5\n",
    "v_jask = s/t\n",
    "print(v_jask)\n",
    "\n",
    "# Punkt 2\n",
    "s = 80\n",
    "t = 2\n",
    "v_jask_afr = s/t\n",
    "print(v_jask_afr)\n",
    "\n",
    "v_jask == v_jask_afr"
   ],
   "metadata": {
    "collapsed": false
   }
  },
  {
   "cell_type": "markdown",
   "source": [
    "#### Ćwiczenie 3\n",
    "Opisz w komentarzu co dzieje się w poniższych sytuacjach, jakie fragmenty tekstu są wybierane?"
   ],
   "metadata": {
    "collapsed": false
   }
  },
  {
   "cell_type": "code",
   "execution_count": 11,
   "outputs": [
    {
     "name": "stdout",
     "output_type": "stream",
     "text": [
      "Jaka\n",
      "Jaka\n",
      "jest prędkość lotu jaskółki bez obciążenia?\n",
      "Jae ęo tjkkb cżi\n",
      "aajs\n",
      "?aineżąicbo zeb ikłóksaj utol ćśokdęrp tsej akaJ\n"
     ]
    }
   ],
   "source": [
    "tekst1 = 'Jaka jest prędkość lotu jaskółki bez obciążenia?'\n",
    "\n",
    "# Wycinanie(slicing) wg wzoru [start:stop:step]\n",
    "print(tekst1[0:4])        # pierwsze 4 znaki\n",
    "print(tekst1[:4])         # pierwsze 4 znaki\n",
    "print(tekst1[5:])         # wszystko od znaku 5\n",
    "print(tekst1[::3])        # co trzeci element\n",
    "print(tekst1[1:8:2])      # od 2 do 8 co 2\n",
    "print(tekst1[::-1])       # wszystko od tyłu"
   ],
   "metadata": {
    "collapsed": false
   }
  },
  {
   "cell_type": "markdown",
   "source": [
    "#### Ćwiczenie 4\n",
    "Zapisz pod zmiennymi następujące cytaty, a następnie na ich podstawie zbuduj i pokaż w konsoli (print) zdanie: Skąd odlatują jaskółki?\n",
    "- cytat1: Skąd macie kokosy?\n",
    "- cytat2: Wszak jaskółki odlatują zimą na słoneczne południe…"
   ],
   "metadata": {
    "collapsed": false
   }
  },
  {
   "cell_type": "code",
   "execution_count": 23,
   "outputs": [
    {
     "name": "stdout",
     "output_type": "stream",
     "text": [
      "Skąd odlatują jaskółki?\n"
     ]
    }
   ],
   "source": [
    "cytat1 = 'Skąd macie kokosy?'\n",
    "cytat2 = 'Wszak jaskółki odlatują zimą na słoneczne południe…'\n",
    "\n",
    "print(cytat1[:4],cytat2[15:23], cytat2[6:14] + cytat1[-1])"
   ],
   "metadata": {
    "collapsed": false
   }
  },
  {
   "cell_type": "code",
   "execution_count": null,
   "outputs": [],
   "source": [],
   "metadata": {
    "collapsed": false
   }
  }
 ],
 "metadata": {
  "kernelspec": {
   "display_name": "Python 3",
   "language": "python",
   "name": "python3"
  },
  "language_info": {
   "codemirror_mode": {
    "name": "ipython",
    "version": 2
   },
   "file_extension": ".py",
   "mimetype": "text/x-python",
   "name": "python",
   "nbconvert_exporter": "python",
   "pygments_lexer": "ipython2",
   "version": "2.7.6"
  }
 },
 "nbformat": 4,
 "nbformat_minor": 0
}
