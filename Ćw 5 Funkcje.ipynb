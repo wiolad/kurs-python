{
 "cells": [
  {
   "cell_type": "markdown",
   "metadata": {},
   "source": [
    "## Metody i Funkcje"
   ]
  },
  {
   "cell_type": "markdown",
   "metadata": {},
   "source": [
    "### Metody wbudowane\n",
    "Metody to funkcje powiązanie z daną klasą obiektu. Przykładowo inne metody będą dostępne dla tekstu, listy, a jeszcze inne dla słownika"
   ]
  },
  {
   "cell_type": "code",
   "execution_count": 1,
   "metadata": {},
   "outputs": [
    {
     "name": "stdout",
     "output_type": "stream",
     "text": [
      "[2, 3, 4]\n"
     ]
    }
   ],
   "source": [
    "# Przykład wbudowanych metod stosowanych na listach\n",
    "lista = [1,2,3]\n",
    "lista.append(4)    # dodajemy 4\n",
    "lista.pop(0)       # usuwamy pierwszy element\n",
    "print(lista)\n"
   ]
  },
  {
   "cell_type": "code",
   "execution_count": null,
   "metadata": {},
   "outputs": [],
   "source": [
    "# Aby wyświetlić dostępne wbudowane metody wpisujemy nazwę obiektu, kropkę i naciskamy TAB\n",
    "# Dla poniższej listy wybierz metodę sort i naciśnij SHIFT + TAB aby uzyskać pomoc\n",
    "# Opierając się na uzyskanej podpowiedzi \n",
    "lista."
   ]
  },
  {
   "cell_type": "code",
   "execution_count": 2,
   "metadata": {},
   "outputs": [
    {
     "name": "stdout",
     "output_type": "stream",
     "text": [
      "Help on built-in function sort:\n",
      "\n",
      "sort(*, key=None, reverse=False) method of builtins.list instance\n",
      "    Stable sort *IN PLACE*.\n",
      "\n"
     ]
    }
   ],
   "source": [
    "# Inny sposób uzyskania pomocy:\n",
    "help(lista.sort)\n",
    "\n",
    "# Można jeszcze skorzystać z oficjalnej dokumentacji: https://docs.python.org/3.7/"
   ]
  },
  {
   "cell_type": "markdown",
   "metadata": {},
   "source": [
    "### Funkcje\n",
    "Funkcje to bloki kodu, które będą wykonywane po przywołaniu nazwy. Pozwala to nie przepisywać wielokrotnie tych samych poleceń."
   ]
  },
  {
   "cell_type": "code",
   "execution_count": 3,
   "metadata": {},
   "outputs": [],
   "source": [
    "# Tworzenie własnej funkcji bez argumentów:\n",
    "def nazwa_funkcji():\n",
    "    '''\n",
    "    Tutaj wpisz komentarz - objaśnienia i notatki do funkcji\n",
    "    '''\n",
    "    print(\"Ta funkcja zwraca tylko tekst\")"
   ]
  },
  {
   "cell_type": "markdown",
   "metadata": {},
   "source": [
    "Wg konwencji funkcje nazywamy z małej litery używając podkreslników"
   ]
  },
  {
   "cell_type": "code",
   "execution_count": 4,
   "metadata": {},
   "outputs": [
    {
     "name": "stdout",
     "output_type": "stream",
     "text": [
      "Ta funkcja zwraca tylko tekst\n"
     ]
    }
   ],
   "source": [
    "# Aby uruchomić funkcję podajemy jej nazwę z nawiasem okrągłym\n",
    "nazwa_funkcji()"
   ]
  },
  {
   "cell_type": "code",
   "execution_count": 5,
   "metadata": {},
   "outputs": [],
   "source": [
    "# Funkcja z jednym argumentem\n",
    "def temp(fahrenheit):\n",
    "    '''\n",
    "    Ta funkcja przelicza stopnie fahrenheita na stopnie celsjusza\n",
    "    '''\n",
    "    celsjusz=(fahrenheit-32)/1.8\n",
    "    return celsjusz\n",
    "\n",
    "# Return zwraca zmienną wynikową i pozwala na przypisanie jej do innej zmiennej\n",
    "# Możemy również użyć funkcji print, która wyświetli wynik w konsoli ale nie pozwoli na przypisanie wartości wynikowej funkcji do zmiennej"
   ]
  },
  {
   "cell_type": "code",
   "execution_count": 8,
   "metadata": {},
   "outputs": [
    {
     "data": {
      "text/plain": [
       "37.77777777777778"
      ]
     },
     "execution_count": 8,
     "metadata": {},
     "output_type": "execute_result"
    }
   ],
   "source": [
    "# Użycie funkcji z argumentem - przeliczamy 100 stopni fahrenheita na stopnie celsjusza\n",
    "a=temp(100)\n",
    "a"
   ]
  },
  {
   "cell_type": "code",
   "execution_count": 9,
   "metadata": {},
   "outputs": [
    {
     "data": {
      "text/plain": [
       "<function __main__.temp(fahrenheit)>"
      ]
     },
     "execution_count": 9,
     "metadata": {},
     "output_type": "execute_result"
    }
   ],
   "source": [
    "# Jeżeli nie użyjemy nawiasu () dostaniemy tylko informacje, że taka funkcja istnieje\n",
    "temp"
   ]
  },
  {
   "cell_type": "code",
   "execution_count": 10,
   "metadata": {},
   "outputs": [
    {
     "name": "stdout",
     "output_type": "stream",
     "text": [
      "Help on function temp in module __main__:\n",
      "\n",
      "temp(fahrenheit)\n",
      "    Ta funkcja przelicza stopnie fahrenheita na stopnie celsjusza\n",
      "\n"
     ]
    }
   ],
   "source": [
    "# Użycie funckji help na funkcji zwraca dokumentacje\n",
    "help(temp)"
   ]
  },
  {
   "cell_type": "code",
   "execution_count": 11,
   "metadata": {},
   "outputs": [],
   "source": [
    "# Nasza funkcja z bardziej rozbudowaną dokumentacją\n",
    "# Taka forma jest potrzebna szczególnie dla bardziej złożonych funkcji\n",
    "# Opis jest dużym ułatwieniem dla innego użytkownika oraz nas samych w sytuacjach kiedy wracamy do kodu po dłuższej przerwie\n",
    "def temp(fahrenheit):\n",
    "    '''\n",
    "    DOCSTRING: Ta funkcja przelicza stopnie fahrenheita na stopnie celsjusza\n",
    "    INPUT: temperatura w stopniach fahrenheita\n",
    "    OUTPUT: temperatura w stopniach celsjusza\n",
    "    '''\n",
    "    celsjusz=(fahrenheit-32)/1.8\n",
    "    return celsjusz"
   ]
  },
  {
   "cell_type": "code",
   "execution_count": 14,
   "metadata": {},
   "outputs": [
    {
     "name": "stdout",
     "output_type": "stream",
     "text": [
      "Help on built-in function print in module builtins:\n",
      "\n",
      "print(...)\n",
      "    print(value, ..., sep=' ', end='\\n', file=sys.stdout, flush=False)\n",
      "    \n",
      "    Prints the values to a stream, or to sys.stdout by default.\n",
      "    Optional keyword arguments:\n",
      "    file:  a file-like object (stream); defaults to the current sys.stdout.\n",
      "    sep:   string inserted between values, default a space.\n",
      "    end:   string appended after the last value, default a newline.\n",
      "    flush: whether to forcibly flush the stream.\n",
      "\n"
     ]
    }
   ],
   "source": [
    "# Pomoc dla wbudowanej funkcji\n",
    "help(print)"
   ]
  },
  {
   "cell_type": "code",
   "execution_count": 15,
   "metadata": {},
   "outputs": [
    {
     "ename": "TypeError",
     "evalue": "temp() missing 1 required positional argument: 'fahrenheit'",
     "output_type": "error",
     "traceback": [
      "\u001b[1;31m---------------------------------------------------------------------------\u001b[0m",
      "\u001b[1;31mTypeError\u001b[0m                                 Traceback (most recent call last)",
      "\u001b[1;32m<ipython-input-15-3d05284c656d>\u001b[0m in \u001b[0;36m<module>\u001b[1;34m\u001b[0m\n\u001b[0;32m      1\u001b[0m \u001b[1;31m# Brak podania argumentu funkcji będzie skutkował błędem\u001b[0m\u001b[1;33m\u001b[0m\u001b[1;33m\u001b[0m\u001b[1;33m\u001b[0m\u001b[0m\n\u001b[1;32m----> 2\u001b[1;33m \u001b[0mtemp\u001b[0m\u001b[1;33m(\u001b[0m\u001b[1;33m)\u001b[0m\u001b[1;33m\u001b[0m\u001b[1;33m\u001b[0m\u001b[0m\n\u001b[0m",
      "\u001b[1;31mTypeError\u001b[0m: temp() missing 1 required positional argument: 'fahrenheit'"
     ]
    }
   ],
   "source": [
    "# Brak podania argumentu funkcji będzie skutkował błędem\n",
    "temp()"
   ]
  },
  {
   "cell_type": "code",
   "execution_count": 21,
   "metadata": {},
   "outputs": [
    {
     "data": {
      "text/plain": [
       "18.333333333333332"
      ]
     },
     "execution_count": 21,
     "metadata": {},
     "output_type": "execute_result"
    }
   ],
   "source": [
    "# Aby uniknąć błędów można podać argument domyślny - będzie on użyty tylko i wyłącznie wtedy kiedy nie podamy argumentu przy wywołaniu funkcji\n",
    "# * Dokumentacje ''' w tym przykładzie i innych pominięto ze względu na przejrzystość kodu\n",
    "def temp(fahrenheit = 32):\n",
    "    celsjusz=(fahrenheit-32)/1.8\n",
    "    return celsjusz\n",
    "\n",
    "temp(65)"
   ]
  },
  {
   "cell_type": "markdown",
   "metadata": {},
   "source": [
    "#### Ćw 5.1. Utwórz funkcję, która zwraca określoną argumentem liczbę wyrazów ciągu fibonacciego. Możesz skorzystać z własnego kodu z zadania 4.1."
   ]
  },
  {
   "cell_type": "code",
   "execution_count": 26,
   "metadata": {},
   "outputs": [
    {
     "name": "stdout",
     "output_type": "stream",
     "text": [
      "[1, 1, 2, 3, 5, 8]\n"
     ]
    }
   ],
   "source": [
    "# 5.1 Rozwiązanie\n",
    "def fibo(nelem):\n",
    "    fibonacci=[1,1]\n",
    "    for i in range(1,nelem-1):\n",
    "        fibonacci.append(fibonacci[i]+fibonacci[i-1])\n",
    "    return fibonacci\n",
    "\n",
    "print(fibo(6))"
   ]
  },
  {
   "cell_type": "code",
   "execution_count": 27,
   "metadata": {},
   "outputs": [],
   "source": [
    "# Więcej niż jeden argument\n",
    "def bmi(masa, wzrost):\n",
    "    bmi =  masa /(wzrost ** 2)\n",
    "    return bmi"
   ]
  },
  {
   "cell_type": "code",
   "execution_count": 28,
   "metadata": {},
   "outputs": [
    {
     "data": {
      "text/plain": [
       "22.22222222222222"
      ]
     },
     "execution_count": 28,
     "metadata": {},
     "output_type": "execute_result"
    }
   ],
   "source": [
    "bmi(50,1.50)"
   ]
  },
  {
   "cell_type": "markdown",
   "metadata": {},
   "source": [
    "#### Ćw 5.2. Utwórz funkcję, z dwoma argumentami, która sprawdza czy wybrane słowo (argument 1) jest w tekście (argument 2) - wielkość liter nie powinna mieć znaczenia. Wypróbuj na poniższym tekście i słowie \"gambolputty\"."
   ]
  },
  {
   "cell_type": "code",
   "execution_count": 30,
   "metadata": {},
   "outputs": [],
   "source": [
    "cytat = \"Beethoven, Mozart, Chopin, Liszt, Brahms, Majteczki… przepraszam!… Schuman, Schubert, Mendelssohn i Bach. Nieśmiertelne nazwiska. Jednak nazwiska pewnego kompozytora nigdy nie umieszczono wśród największych. Dlaczego świat nigdy nie zapamiętał nazwiska Johanna Gambolputty de von Ausfern-schplenden-schlitter-crasscrenbon-fried-digger-dangle-dungle-burstein-von-knacker-thrasher-apple-banger-horowitz-ticolensic-grander-knotty-spelltinkle-grandlich-grumblemeyer-spelterwasser-kürstlich-himbleeisen-bahnwagen-gutenabend-bitte-eine-nürnburger-bratwustle-gerspurten-mit-zweimache-luber-hundsfut-gumberaber-shönendanker-kalbsfleisch-mittler-raucher von Hautkopft z Ulm?\""
   ]
  },
  {
   "cell_type": "code",
   "execution_count": 31,
   "metadata": {},
   "outputs": [
    {
     "data": {
      "text/plain": [
       "True"
      ]
     },
     "execution_count": 31,
     "metadata": {},
     "output_type": "execute_result"
    }
   ],
   "source": [
    "# 5.2 Rozwiązanie\n",
    "def slowawtekscie(tekst,slowo):\n",
    "    return slowo.lower() in tekst.lower()\n",
    "\n",
    "slowawtekscie(cytat,'CHOPIN')"
   ]
  },
  {
   "cell_type": "markdown",
   "metadata": {},
   "source": [
    "### Więcej argumentów\n",
    "Co jeżeli nasza funckja powinna posiadać bliżej nieobreśloną liczbę argumentów?"
   ]
  },
  {
   "cell_type": "code",
   "execution_count": 32,
   "metadata": {},
   "outputs": [
    {
     "ename": "TypeError",
     "evalue": "suma() takes 2 positional arguments but 3 were given",
     "output_type": "error",
     "traceback": [
      "\u001b[1;31m---------------------------------------------------------------------------\u001b[0m",
      "\u001b[1;31mTypeError\u001b[0m                                 Traceback (most recent call last)",
      "\u001b[1;32m<ipython-input-32-e89c001387be>\u001b[0m in \u001b[0;36m<module>\u001b[1;34m\u001b[0m\n\u001b[0;32m      4\u001b[0m \u001b[1;33m\u001b[0m\u001b[0m\n\u001b[0;32m      5\u001b[0m \u001b[1;31m# Za dużo argumentów - dostaniemy błąd\u001b[0m\u001b[1;33m\u001b[0m\u001b[1;33m\u001b[0m\u001b[1;33m\u001b[0m\u001b[0m\n\u001b[1;32m----> 6\u001b[1;33m \u001b[0msuma\u001b[0m\u001b[1;33m(\u001b[0m\u001b[1;36m4\u001b[0m\u001b[1;33m,\u001b[0m\u001b[1;36m5\u001b[0m\u001b[1;33m,\u001b[0m\u001b[1;36m7\u001b[0m\u001b[1;33m)\u001b[0m\u001b[1;33m\u001b[0m\u001b[1;33m\u001b[0m\u001b[0m\n\u001b[0m",
      "\u001b[1;31mTypeError\u001b[0m: suma() takes 2 positional arguments but 3 were given"
     ]
    }
   ],
   "source": [
    "# Na przykładzie funkcji wyliczającej procent z sumy\n",
    "def suma(a,b):\n",
    "    return sum(a,b)\n",
    "\n",
    "# Za dużo argumentów - dostaniemy błąd\n",
    "suma(4,5,7)"
   ]
  },
  {
   "cell_type": "code",
   "execution_count": null,
   "metadata": {},
   "outputs": [],
   "source": [
    "# Na przykładzie funkcji wyliczającej procent z sumy - przyjmuje dowolną liczbę argumentów i umieszcza je w tupli\n",
    "# args jest dowolnym stringiem,jednak zgodnie z konwencją używany zawsze *args\n",
    "def procsum(*args):\n",
    "    print(args)\n",
    "    return sum(args) * 0.05\n",
    "\n",
    "procsum(7,3,4,6,7)"
   ]
  },
  {
   "cell_type": "code",
   "execution_count": 34,
   "metadata": {},
   "outputs": [
    {
     "name": "stdout",
     "output_type": "stream",
     "text": [
      "{'owoc': 'jabłko', 'warzywo': 'marchewka'}\n",
      "Mój ulubiony owoc to jabłko\n"
     ]
    }
   ],
   "source": [
    "# Na przykładzie funkcji zwracającej informacje\n",
    "# kwargs jest dowolnym stringiem,jednak zgodnie z konwencją używany zawsze **kwargs\n",
    "# Oznacza to, że jako argument można dodać dowolną liczbę par klucz:wartość i będą one umieszczone w słowniku\n",
    "def ulubione(**kwargs):\n",
    "    print(kwargs)\n",
    "    if 'owoc' in kwargs:\n",
    "        print('Mój ulubiony owoc to {}'.format(kwargs['owoc']))\n",
    "\n",
    "ulubione(owoc='jabłko',warzywo='marchewka')"
   ]
  },
  {
   "cell_type": "markdown",
   "metadata": {},
   "source": [
    "#### Ćw 5.3. Utwórz funkcję, która zwraca sumę kwadratów (do potęgi 2) wszystkich liczb podanych jako argumenty"
   ]
  },
  {
   "cell_type": "code",
   "execution_count": 36,
   "metadata": {},
   "outputs": [
    {
     "data": {
      "text/plain": [
       "16"
      ]
     },
     "execution_count": 36,
     "metadata": {},
     "output_type": "execute_result"
    }
   ],
   "source": [
    "# 5.3 Rozwiązanie\n",
    "def power(*args):\n",
    "    return [ x**2 for x in args ]\n",
    "\n",
    "sum(power(2,2,2,2))"
   ]
  },
  {
   "cell_type": "markdown",
   "metadata": {},
   "source": [
    "### Wczytywanie plików tekstowych"
   ]
  },
  {
   "cell_type": "code",
   "execution_count": 37,
   "metadata": {},
   "outputs": [],
   "source": [
    "# Podstawowa komenda dla wczytywania plików\n",
    "plik = open('tekst.txt')"
   ]
  },
  {
   "cell_type": "code",
   "execution_count": 38,
   "metadata": {},
   "outputs": [
    {
     "data": {
      "text/plain": [
       "'Linijka 1\\nLinijka 2\\nLinijka 3\\n'"
      ]
     },
     "execution_count": 38,
     "metadata": {},
     "output_type": "execute_result"
    }
   ],
   "source": [
    "# Odczytywanie zawartości pliku - działa tylko raz, wywołując komórkę więcej niż raz dostaniemy jedynie ''\n",
    "# Możemy sobie wyobrazić, że w momencie wczytywania pliku \"kursor\" przesuwa się na koniec odczytywanego tekstu i komenda zwraca tylko to co jeszcze nie zostało wczytane\n",
    "# To zachowanie można cofnąć przez użycie metody seek(0)\n",
    "# \\n jest znakiem nowej linii\n",
    "plik.read()"
   ]
  },
  {
   "cell_type": "code",
   "execution_count": 39,
   "metadata": {},
   "outputs": [
    {
     "data": {
      "text/plain": [
       "'Linijka 1\\nLinijka 2\\nLinijka 3\\n'"
      ]
     },
     "execution_count": 39,
     "metadata": {},
     "output_type": "execute_result"
    }
   ],
   "source": [
    "# Wyzerowanie kursora i odczytanie zawartości pliku jako spójny tekst\n",
    "plik.seek(0)\n",
    "plik.read()"
   ]
  },
  {
   "cell_type": "code",
   "execution_count": 40,
   "metadata": {},
   "outputs": [
    {
     "data": {
      "text/plain": [
       "['Linijka 1\\n', 'Linijka 2\\n', 'Linijka 3\\n']"
      ]
     },
     "execution_count": 40,
     "metadata": {},
     "output_type": "execute_result"
    }
   ],
   "source": [
    "# Odczytywanie linijka po linijce - wrzuca kolejne linijki tekstu do listy\n",
    "plik.seek(0)\n",
    "plik.readlines()"
   ]
  },
  {
   "cell_type": "code",
   "execution_count": null,
   "metadata": {},
   "outputs": [],
   "source": [
    "# Po otwarciu pliku i zakończeniu pracy na nim powinien być on zamknięty\n",
    "plik.close()"
   ]
  },
  {
   "cell_type": "code",
   "execution_count": null,
   "metadata": {},
   "outputs": [],
   "source": [
    "# Sprawdzenie gdzie jest obszar roboczy\n",
    "# pliki znajdujące się w tym folderze nie muszą mieć dodatkowej informacji o ścieżce\n",
    "import os\n",
    "os.getcwd()\n",
    "\n",
    "# Można również użyć komendy pwd, jednak nie zawsze działa prawidłowo"
   ]
  },
  {
   "cell_type": "markdown",
   "metadata": {},
   "source": [
    "#### Otwieranie pliku z innej lokalizacji\n",
    "- Przykładowe otwieranie pliku w systemie Linux lub Mac OS: plik = open(\"/home/UserName/Documents/tekst2.txt\")\n",
    "- Dla osób pracujących na windowsie ścieżka będzie wyglądała mniej więcej tak (\"C:\\\\Users\\\\UserName\\\\Folder\\\\plik.txt\")"
   ]
  },
  {
   "cell_type": "code",
   "execution_count": null,
   "metadata": {},
   "outputs": [],
   "source": [
    "# Inny sposób na otwarcie pliku bez konieczności późniejszego zamykania pliku\n",
    "# Komenda with otwiera plik, zapisuje zawartość pod zmienną i zamyka plik\n",
    "with open('tekst.txt') as f:\n",
    "    zawartosc = f.read()\n",
    "    \n",
    "zawartosc"
   ]
  },
  {
   "cell_type": "code",
   "execution_count": null,
   "metadata": {},
   "outputs": [],
   "source": [
    "# Zapisywanie do pliku, korzystamy z argumentu mode\n",
    "# Domyślnym ustawieniem dla mode jest r czyli read only: mode = 'r'   - tylko odczytuje zawartość pliku\n",
    "# mode = 'w'   - czyli write only, tylko nadpisuje zawartość pliku\n",
    "# mode = 'a'   - czyli append only, dodaje zawartość do pliku \n",
    "# mode = 'r+'  - odczytywanie i zapisywanie do pliku \n",
    "# mode = 'w+'  - zapisywanie i odczytywanie pliku - nadpisuje istniejący plik lub tworzy nowy\n",
    "with open('tekst.txt', mode = 'a') as f:\n",
    "    f.write(\"Kolejna linijka\")"
   ]
  },
  {
   "cell_type": "code",
   "execution_count": null,
   "metadata": {},
   "outputs": [],
   "source": [
    "# Tworzymy nowy plik i zapisujemy do pliku o nazwie \"dowolna_nazwa\"\n",
    "with open('dowolna_nazwa.txt', mode = 'w') as f:\n",
    "    f.write(\"Nowo utworzony plik!\")"
   ]
  },
  {
   "cell_type": "code",
   "execution_count": null,
   "metadata": {},
   "outputs": [],
   "source": [
    "# Sprawdzamy zawartość tego co udało nam się zapisać w poprzednim kroku\n",
    "with open('dowolna_nazwa.txt', mode = 'r') as f:\n",
    "    print(f.read())"
   ]
  },
  {
   "cell_type": "markdown",
   "metadata": {},
   "source": [
    "#### Ćw 5.4. Napisz skrypt, który tworzy plik \"drwal.txt\", zapisuje do niego zdanie \"Jestem drwalem i jestem OK\", a następnie dodaje kolejne zdanie \"za dnia pracuję, w nocy śpię!\" w następnej linijce"
   ]
  },
  {
   "cell_type": "code",
   "execution_count": 1,
   "metadata": {},
   "outputs": [
    {
     "name": "stdout",
     "output_type": "stream",
     "text": [
      "Jestem drwalem i jestem OK\n",
      "za dnia pracuję, w nocy śpię!\n"
     ]
    }
   ],
   "source": [
    "with open('drwal.txt', mode = 'w') as f:\n",
    "    f.write(\"Jestem drwalem i jestem OK\")\n",
    "    \n",
    "with open('drwal.txt', mode = 'a') as f:\n",
    "    f.write(\"\\nza dnia pracuję, w nocy śpię!\")\n",
    "\n",
    "with open('drwal.txt', mode = 'r') as f:\n",
    "    print(f.read())"
   ]
  },
  {
   "cell_type": "markdown",
   "metadata": {},
   "source": [
    "#### Ćw 5.5. Zapisz do listy wszystkie linijki z pliku piosenka, w których pojawia się słowo \"life\" a następnie policz liczbę słów w każdej linijce. Użyj zdefiniowanej przez siebie funkcji. Wyniki zapisz do nowego pliku jako \"Zdanie 'zdanie 1' ma X słów\" itd."
   ]
  },
  {
   "cell_type": "code",
   "execution_count": 5,
   "metadata": {},
   "outputs": [
    {
     "data": {
      "text/plain": [
       "['Some things in life are bad,\\n',\n",
       " 'They can really make you mad.\\n',\n",
       " 'Other things just make you swear and curse.\\n',\n",
       " \"When you're chewing on life's gristle,\\n\",\n",
       " \"Don't grumble, give a whistle!\\n\",\n",
       " \"And this'll help things turn out for the best\\n\",\n",
       " '\\n',\n",
       " 'And\\n',\n",
       " 'Always look on the bright side of life!\\n',\n",
       " 'Always look on the bright side of life\\n',\n",
       " 'If life seems jolly rotten,\\n',\n",
       " \"There's something you've forgotten!\\n\",\n",
       " \"And that's to laugh and smile and dance and sing,\\n\",\n",
       " \"When you're feeling in the dumps,\\n\",\n",
       " \"Don't be silly chumps,\\n\",\n",
       " \"Just purse your lips and whistle -- that's the thing!\\n\",\n",
       " '\\n',\n",
       " 'And always look on the bright side of life\\n',\n",
       " 'Always look on the bright side of life\\n',\n",
       " 'For life is quite absurd,\\n',\n",
       " \"And death's the final word.\\n\",\n",
       " 'You must always face the curtain with a bow!\\n',\n",
       " 'Forget about your sin -- give the audience a grin,\\n',\n",
       " \"Enjoy it, it's the last chance anyhow!\\n\",\n",
       " '\\n',\n",
       " 'So always look on the bright side of death!\\n',\n",
       " 'Just before you draw your terminal breath.\\n',\n",
       " \"Life's a piece of shit,\\n\",\n",
       " 'When you look at it.\\n',\n",
       " \"Life's a laugh and death's a joke, it's true,\\n\",\n",
       " \"You'll see it's all a show,\\n\",\n",
       " \"Keep 'em laughing as you go.\\n\",\n",
       " 'Just remember that the last laugh is on you!\\n']"
      ]
     },
     "execution_count": 5,
     "metadata": {},
     "output_type": "execute_result"
    }
   ],
   "source": [
    "# Zadanie 5.5 rozwiązanie\n",
    "plik = open('piosenka.txt')\n",
    "lista=plik.readlines()\n",
    "#        with open('piosenka slowo life.txt', mode = 'a') as f:\n",
    "#                f.write(tekst)"
   ]
  },
  {
   "cell_type": "code",
   "execution_count": 4,
   "metadata": {},
   "outputs": [
    {
     "name": "stdout",
     "output_type": "stream",
     "text": [
      "Zdanie: Some things in life are bad, ma 6 słów\n",
      "\n",
      "Zdanie: When you're chewing on life's gristle, ma 6 słów\n",
      "\n",
      "Zdanie: Always look on the bright side of life! ma 8 słów\n",
      "\n",
      "Zdanie: Always look on the bright side of life ma 8 słów\n",
      "\n",
      "Zdanie: If life seems jolly rotten, ma 5 słów\n",
      "\n",
      "Zdanie: And always look on the bright side of life ma 9 słów\n",
      "\n",
      "Zdanie: Always look on the bright side of life ma 8 słów\n",
      "\n",
      "Zdanie: For life is quite absurd, ma 5 słów\n",
      "\n"
     ]
    }
   ],
   "source": [
    "for zdanie in lista:\n",
    "    if 'life' in zdanie:\n",
    "        dlugosc=len(zdanie.split(' '))\n",
    "        tekst='Zdanie: ' + zdanie.strip() +' ma '+str(dlugosc)+' słów'+'\\n'\n",
    "        print(tekst)"
   ]
  }
 ],
 "metadata": {
  "kernelspec": {
   "display_name": "Python 3",
   "language": "python",
   "name": "python3"
  },
  "language_info": {
   "codemirror_mode": {
    "name": "ipython",
    "version": 3
   },
   "file_extension": ".py",
   "mimetype": "text/x-python",
   "name": "python",
   "nbconvert_exporter": "python",
   "pygments_lexer": "ipython3",
   "version": "3.7.4"
  }
 },
 "nbformat": 4,
 "nbformat_minor": 2
}
