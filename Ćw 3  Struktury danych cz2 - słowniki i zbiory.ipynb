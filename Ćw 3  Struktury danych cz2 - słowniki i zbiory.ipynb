{
 "cells": [
  {
   "cell_type": "markdown",
   "metadata": {},
   "source": [
    "## Ćwiczenia 3. Struktury danych - słowniki i zbiory - instrukcje warunkowe"
   ]
  },
  {
   "cell_type": "markdown",
   "metadata": {},
   "source": [
    "### Słowniki\n",
    "\n",
    "Słowniki są używane we wszystkich programach w pythonie. Nie mają kolejności i nie mogą być sortowane. Ich najważniejszą własnością są pary klucz:wartość (key:value) {'key1':'value1','key2':'value2'}.\n",
    "- Klucze muszą być unikalne - muszą to być typy nie modyfikowalne tzn string, liczba, tupla.\n",
    "- Wartości mogą mieć dowolny typ, w jednym słowniku możemy mieć wartości różnego typu"
   ]
  },
  {
   "cell_type": "markdown",
   "metadata": {},
   "source": [
    "Czym się różni słownik od listy?\n",
    "- W słowniku można odnaleźć wartość mając klucz - brak możliwości sortowania\n",
    "- W liście można odnaleźć wartość poprzez podanie jej lokalizacji - można sortować"
   ]
  },
  {
   "cell_type": "code",
   "execution_count": null,
   "metadata": {},
   "outputs": [],
   "source": [
    "# Tworzymy pusty słownik\n",
    "pierwszy = {}\n",
    "drugi = dict()"
   ]
  },
  {
   "cell_type": "code",
   "execution_count": null,
   "metadata": {},
   "outputs": [],
   "source": [
    "# Przykład słownika z danymi - Tabela kodonów dla mRNA\n",
    "# Kluczem są kodony, aminokwas kodowany przez dany kodon umieszczono jako wartość\n",
    "kodony = {'UUU':'fenyloalanina','UUC':'fenyloalanina','UUA':'leucyna','UUG':'leucyna','CUU':'leucynax','CUC':'leucyna','CUA':'leucyna','CUG':'leucyna'}\n",
    "\n",
    "# Kluczem są aminokwasy - wszystkie znane kodony są zamieszczone w formie listy jako wartość\n",
    "aminokwasy = {'fenyloalanina':['UUU','UUC'],'leucyna':['UUA','UUG','CUU','CUC','CUA','CUG']}"
   ]
  },
  {
   "cell_type": "code",
   "execution_count": null,
   "metadata": {},
   "outputs": [],
   "source": [
    "# Otrzymanie wartości na podstawie klucza wymaga użycia nawiasów kwadratowych\n",
    "print(aminokwasy['leucyna'])"
   ]
  },
  {
   "cell_type": "code",
   "execution_count": null,
   "metadata": {},
   "outputs": [],
   "source": [
    "# Czy możliwe jest utworzenie słownika poniżej?\n",
    "test = {1:'a','b':3,(1,2,3):4,True: 'c',[1,2]:6}"
   ]
  },
  {
   "cell_type": "markdown",
   "metadata": {},
   "source": [
    "#### Liczba elementów"
   ]
  },
  {
   "cell_type": "code",
   "execution_count": null,
   "metadata": {},
   "outputs": [],
   "source": [
    "# Liczba kluczy w słowniku\n",
    "len(aminokwasy)"
   ]
  },
  {
   "cell_type": "code",
   "execution_count": null,
   "metadata": {},
   "outputs": [],
   "source": [
    "# Liczba elementów w wartości (tutaj lista) czyli liczbę kodonów dla leucyny\n",
    "print(len(aminokwasy['leucyna']))"
   ]
  },
  {
   "cell_type": "markdown",
   "metadata": {},
   "source": [
    "#### Zawartość słownika i modyfikowanie jego zawartości"
   ]
  },
  {
   "cell_type": "code",
   "execution_count": null,
   "metadata": {},
   "outputs": [],
   "source": [
    "# Wyświetlanie wszystkich kluczy, wartości oraz par w słowniku\n",
    "# print(kodony.keys())\n",
    "# print(kodony.values())\n",
    "print(kodony.items())"
   ]
  },
  {
   "cell_type": "code",
   "execution_count": null,
   "metadata": {},
   "outputs": [],
   "source": [
    "# Zmiana wartości w słowniku wg klucza\n",
    "kodony['CUU']='leucyna'\n",
    "print(kodony['CUU'])"
   ]
  },
  {
   "cell_type": "code",
   "execution_count": null,
   "metadata": {},
   "outputs": [],
   "source": [
    "# Dodawanie nowej pary klucz : wartość - tej samej metody możemy użyć dla zmiany istniejącej pary\n",
    "aminokwasy['izoleucyna']=['AUU','AUC','AUA']\n",
    "aminokwasy"
   ]
  },
  {
   "cell_type": "code",
   "execution_count": null,
   "metadata": {},
   "outputs": [],
   "source": [
    "# Jak odzyskać poszczególne elementy z listy która jest podana jako wartość słownika?\n",
    "# 1. Sprawdzamy jaka wartość kryje się pod kluczem\n",
    "print(aminokwasy['leucyna'])\n",
    "\n",
    "# 2. Pobieramy kodon UUG, który jest 2 elementem w liście\n",
    "print(aminokwasy['leucyna'][1])\n",
    "\n",
    "# Jak wyżej, ale dodatkowo zamieniamy małe litery na duże\n",
    "print(aminokwasy['leucyna'][1].lower())"
   ]
  },
  {
   "cell_type": "markdown",
   "metadata": {},
   "source": [
    "#### Metody wbudowane słowników"
   ]
  },
  {
   "cell_type": "code",
   "execution_count": null,
   "metadata": {},
   "outputs": [],
   "source": [
    "# Usunięcie pozycji ze słownika wg klucza - tak jak w przydaku listy metoda pop zwraca usuwany element\n",
    "aminokwasy.pop('fenyloalanina')"
   ]
  },
  {
   "cell_type": "code",
   "execution_count": null,
   "metadata": {},
   "outputs": [],
   "source": [
    "kodony."
   ]
  },
  {
   "cell_type": "markdown",
   "metadata": {},
   "source": [
    "### Ćwiczenie 3.1 Utwórz słownik, który zawierał będzie trzy wybrane angielskie słowa razem z polskim tłumaczeniem, a następnie:\n",
    "- A. Dodaj pozycję \"autor\", która zawierać będzie Twoje imię i nazwisko pod postacią listy\n",
    "- B. Usuń drugie z dodanych słów ze słownika\n",
    "- C. Zmień tłumaczenie pierwszego słowa na synonim\n",
    "- D. Utwórz słownik polsko-angielski, który będzie tłumaczeniem posiadanego słownika.\n",
    "- E. Połącz dwa posiadane słowniki w jeden\n",
    "- F. Zwróć wszystkie klucze z połączonego słownika"
   ]
  },
  {
   "cell_type": "markdown",
   "metadata": {},
   "source": [
    "## Zbiory\n",
    "Są kolekcją zmiennych bez określonej kolejności, w związku z tym nie można ich sortować ani indeksować. Wszystkie elementy muszą być unikalne. Podobnie jak słowniki wykorzystują nawiasy klamrowe {} jednak nie posiadają par klucz:wartość"
   ]
  },
  {
   "cell_type": "code",
   "execution_count": null,
   "metadata": {},
   "outputs": [],
   "source": [
    "# Tworzenie zbioru\n",
    "zbior = set()\n",
    "\n",
    "# Dodawanie elementów do zbioru\n",
    "zbior.add(1)\n",
    "print(zbior)"
   ]
  },
  {
   "cell_type": "code",
   "execution_count": null,
   "metadata": {},
   "outputs": [],
   "source": [
    "# Dodawanie kolejnego elementu\n",
    "zbior.add(2)\n",
    "print(zbior)"
   ]
  },
  {
   "cell_type": "code",
   "execution_count": null,
   "metadata": {},
   "outputs": [],
   "source": [
    "# Próba dodania elementu, który już istnieje - ponieważ może być tylko jedna dwójka nic się nie zmieni\n",
    "zbior.add(2)\n",
    "print(zbior)"
   ]
  },
  {
   "cell_type": "code",
   "execution_count": null,
   "metadata": {},
   "outputs": [],
   "source": [
    "# Usuwanie elementu\n",
    "zbior.pop()"
   ]
  },
  {
   "cell_type": "code",
   "execution_count": null,
   "metadata": {},
   "outputs": [],
   "source": [
    "# Zbiory są wykorzystywane najczęściej do otrzymania unikalnych elementów tekstu lub listy\n",
    "dna=\"AGAAGTGAGTTTTGGATAGTAGAATAAAGTTTCGAACTCTGGCACCTTTCAAAGTTC\"\n",
    "\n",
    "# Zamieniamy sekwencję DNA na zbiór\n",
    "zbior2 = set(dna)\n",
    "print(zbior2)\n",
    "\n",
    "# Zamieniamy sekwencję DNA na zbiór najpierw dzieląc tekst po 'A'\n",
    "print(set(dna.split('A')))"
   ]
  },
  {
   "cell_type": "markdown",
   "metadata": {},
   "source": [
    "#### Działania na zbiorach"
   ]
  },
  {
   "cell_type": "code",
   "execution_count": null,
   "metadata": {},
   "outputs": [],
   "source": [
    "a = {'a','b','c'}\n",
    "b = {'b','c','d'}"
   ]
  },
  {
   "cell_type": "code",
   "execution_count": null,
   "metadata": {},
   "outputs": [],
   "source": [
    "# Suma zbiorów\n",
    "print(a.union(b))\n",
    "print(a | b)"
   ]
  },
  {
   "cell_type": "code",
   "execution_count": null,
   "metadata": {},
   "outputs": [],
   "source": [
    "# Przecięcie zbiorów\n",
    "print(a.intersection(b))\n",
    "a & b"
   ]
  },
  {
   "cell_type": "code",
   "execution_count": null,
   "metadata": {},
   "outputs": [],
   "source": [
    "# Różnica zbiorów\n",
    "print(a.difference(b))\n",
    "a - b"
   ]
  },
  {
   "cell_type": "code",
   "execution_count": null,
   "metadata": {},
   "outputs": [],
   "source": [
    "# Różnica symetryczna - elementy albo w a albo w b, ale nie obu naraz\n",
    "print(a.symmetric_difference(b))\n",
    "a ^ b"
   ]
  },
  {
   "cell_type": "markdown",
   "metadata": {},
   "source": [
    "#### Frozenset\n",
    "Zwraca obiekt, który jest niemodyfikowalnym zbiorem"
   ]
  },
  {
   "cell_type": "code",
   "execution_count": null,
   "metadata": {},
   "outputs": [],
   "source": [
    "a = [1,2,3,4,6,3,2,3]\n",
    "b = frozenset(a)\n",
    "print(b)"
   ]
  },
  {
   "cell_type": "code",
   "execution_count": null,
   "metadata": {},
   "outputs": [],
   "source": [
    "b[1]=7"
   ]
  },
  {
   "cell_type": "markdown",
   "metadata": {},
   "source": [
    "#### Zadanie 4.3. Dla poniższej sekwencji białkowej\n",
    "- A. Sprawdź ile różnych aminokwasów zawierają sekwencję\n",
    "- B. Które aminokwasy są wspólne?"
   ]
  },
  {
   "cell_type": "code",
   "execution_count": null,
   "metadata": {},
   "outputs": [],
   "source": [
    "Ripk2_mouse = 'MNGDAICSALPPIPYHKLADLHYLSRGASG'\n",
    "Ripk2_danio = 'MSRNMEHTGCVNICSLTSTLPVIPYRKLTD'"
   ]
  },
  {
   "cell_type": "markdown",
   "metadata": {},
   "source": [
    "### Instrukcje warunkowe"
   ]
  },
  {
   "cell_type": "markdown",
   "metadata": {},
   "source": [
    "Jak sprawić żeby program wykonywał różne polecenia w zależności od postawionych warunków? Służą do tego wyrażenia kontroli przepływu: if, for, while. Instrukcja warunkowa if jest odpowiednikiem funkcji JEŻELI w excelu."
   ]
  },
  {
   "cell_type": "markdown",
   "metadata": {},
   "source": [
    "Wszystkie wyrażenia kontroli przepływu w Pythonie stosują wcięcia. Bloki kodu nie posiadają tu sprecyzowanych początków i końców ani żadnych nawiasów służących do zaznaczania, gdzie blok się zaczyna, a gdzie kończy. Jedynym separatorem jest dwukropek ':' i wcięcia kodu. Przez \"blok kodu\" rozumiemy między innymi funkcje, wyrażenia warunkowe if, pętle for oraz while."
   ]
  },
  {
   "cell_type": "markdown",
   "metadata": {},
   "source": [
    "#### Wyrażenia warunkowe - if else"
   ]
  },
  {
   "cell_type": "markdown",
   "metadata": {},
   "source": [
    "Jeżeli warunek jest prawdziwy, uruchamiamy blok operacji (blok if), w przeciwnym wypadku wywołujemy inny blok (blok else). Wyrażenie warunkowe musi zawierać co najmniej jeden blok if, natomiast blok else jest opcjonalny."
   ]
  },
  {
   "cell_type": "code",
   "execution_count": null,
   "metadata": {},
   "outputs": [],
   "source": [
    "# Sprawdźmy czy liczba jest parzysta\n",
    "liczba = 7                               #Pod zmienną \"liczba\" zapisujemy liczbę 5\n",
    "if liczba % 2 == 0:                      #Sprawdzamy warunek: czy reszta z dzielenia (%) przez 2 jest równa (==) zero\n",
    "    print('liczba jest parzysta')        #Jeżeli warunek jest spełniony program wydrukuje w konsoli: liczba jest parzysta\n",
    "else:\n",
    "    print('liczba jest nieparzysta')     #Jeżeli warunek nie jest spełniony program wydrukuje w konsoli: liczba jest nieparzysta"
   ]
  },
  {
   "cell_type": "code",
   "execution_count": null,
   "metadata": {},
   "outputs": [],
   "source": [
    "# Ten kod będzie również działał, ale jeżeli warunek nie będzie spełniony nie zobaczymy żadnego wyniku\n",
    "liczba = 7                               \n",
    "if liczba % 2 == 0:\n",
    "    print('liczba jest parzysta')"
   ]
  },
  {
   "cell_type": "markdown",
   "metadata": {},
   "source": [
    "Zwróć uwagę na wcięcie w linijce następującej po warunku if, po dwukropku. Poniższy kod wygeneruje błąd \"expected an indented block\". Oznacza to właśnie, że brakuje wcięcia. Pisząc instrukcję warunkową w jupyter notebook, kończąć ją dwukropkiem, kiedy naciśniemy ENTER wcięcie powinno pojawić się automatycznie, tutaj zostało celowo skasowane."
   ]
  },
  {
   "cell_type": "code",
   "execution_count": null,
   "metadata": {},
   "outputs": [],
   "source": [
    "liczba = 6                               \n",
    "if liczba % 2 == 0:                     \n",
    "    print('liczba jest parzysta')"
   ]
  },
  {
   "cell_type": "markdown",
   "metadata": {},
   "source": [
    "#### Ćwiczenie 3.1: Napisz instrukcję warunkową, która sprawdza czy sekwencja DNA zawiera sekwencje 'AGT' po czym zwraca ich liczbę oraz tekst z informacją w przypadku ich braku\n",
    "\n",
    "Podpowiedź: do zliczania wystąpień fragmentów tekstu można użyć funkcji count. Wynik funkcji najlepiej zapisać pod zmienną.\n",
    "\n",
    "    sekwencja DNA: ACCTGAGTGATGATGCCATGAAGTCCATGAATAAGTGACAATGACAGTACTAG\n"
   ]
  },
  {
   "cell_type": "code",
   "execution_count": 1,
   "metadata": {},
   "outputs": [
    {
     "name": "stdout",
     "output_type": "stream",
     "text": [
      "a jest równe między 2 a 5\n"
     ]
    }
   ],
   "source": [
    "# Więcej bloków else?\n",
    "a=3                                       #Pod zmienną \"a\" zapisujemy liczbę 3\n",
    "if a < 2:                                 #Sprawdzamy czy a jest mniejsze od 2\n",
    "    print('a jest mniejsze niż 2')        #Jeżeli warunek jest spełniony pojawi się tekst 'a jest mniejsze niż 2'\n",
    "elif a >= 2 and a <=5:                    #Jeżeli warunek nie jest spełniony zostanie rozpatrzony kolejny, czyli czy a jest większe równe 2 oraz czy jest mniejsze równe 5\n",
    "    print('a jest równe między 2 a 5')    #Jeżeli warunek jest spełniony pojawi się tekst 'a jest równe między 2 a 5'\n",
    "else:                                     #Jeżeli żaden z warunków po if lub elif nie jest spełniony wykonana zostanie instrukcja w następnej linijce\n",
    "    print('a jest równe więcej niż 5')"
   ]
  },
  {
   "cell_type": "code",
   "execution_count": null,
   "metadata": {},
   "outputs": [],
   "source": [
    "# Ważne! W powyższym przykładzie zastosowano operator logiczny 'and'. Wynikiem wyrażenia będzie True jeżeli obydwa warunki dają True\n",
    "# Alterantywą może być użycie operatora logicznego 'or'. Wynikiem wyrażenia będzie True jeżeli co najmniej jeden warunek daje True\n",
    "# Przykład:\n",
    "a = 5\n",
    "print(a < 10 and a > 6)\n",
    "print(a < 10 or a > 6)"
   ]
  },
  {
   "cell_type": "markdown",
   "metadata": {},
   "source": [
    "#### Ćwiczenie 3.2: Napisz instrukcję warunkową, która sprawdza czy sekwencja DNA z ćwiczenia 1 zawiera ciąg 'AGT' i zwraca ich liczbę oraz ma ponad 20 nukleotydów długości. Polecenie wykonaj korzystając z instrukcji elif - uwzględnij każdą ewentualność, także brak sekwencji 'AGT'"
   ]
  },
  {
   "cell_type": "markdown",
   "metadata": {},
   "source": [
    "#### Instrukcja Match-Case\n",
    "Uwaga! Dostępne od wersji Pythona 3.10!\n",
    "\n",
    "Przydatna, kiedy mamy dużo warunków\n",
    "Możliwość połączenia kilku warunków w jednej linijce za pomocą operatora or '|'\n",
    "case _ to odpowiednik instrukcji else"
   ]
  },
  {
   "cell_type": "code",
   "execution_count": 2,
   "metadata": {},
   "outputs": [
    {
     "ename": "SyntaxError",
     "evalue": "invalid syntax (4251186111.py, line 2)",
     "output_type": "error",
     "traceback": [
      "\u001B[1;36m  File \u001B[1;32m\"C:\\Users\\wiole\\AppData\\Local\\Temp\\ipykernel_4160\\4251186111.py\"\u001B[1;36m, line \u001B[1;32m2\u001B[0m\n\u001B[1;33m    match http_status:\u001B[0m\n\u001B[1;37m                    ^\u001B[0m\n\u001B[1;31mSyntaxError\u001B[0m\u001B[1;31m:\u001B[0m invalid syntax\n"
     ]
    }
   ],
   "source": [
    "http_status = 200\n",
    "match http_status:\n",
    "    case 200|201:\n",
    "        print('Sukces!')\n",
    "    case 400:\n",
    "        print('Nie znaleziono')\n",
    "    case 500|501:\n",
    "        print('Błąd serwera')\n",
    "    case _:\n",
    "        print('Nie rozpoznano odpowiedzi HTTP')"
   ]
  }
 ],
 "metadata": {
  "kernelspec": {
   "display_name": "Python 3 (ipykernel)",
   "language": "python",
   "name": "python3"
  },
  "language_info": {
   "codemirror_mode": {
    "name": "ipython",
    "version": 3
   },
   "file_extension": ".py",
   "mimetype": "text/x-python",
   "name": "python",
   "nbconvert_exporter": "python",
   "pygments_lexer": "ipython3",
   "version": "3.7.13"
  }
 },
 "nbformat": 4,
 "nbformat_minor": 2
}
