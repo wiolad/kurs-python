{
 "cells": [
  {
   "cell_type": "markdown",
   "metadata": {},
   "source": [
    "## Ćwiczenia 3. Struktury danych część 2 - słowniki i zbiory"
   ]
  },
  {
   "cell_type": "markdown",
   "metadata": {},
   "source": [
    "### Słowniki\n",
    "\n",
    "Nie mają kolejności i nie mogą być sortowane. Ich najważniejszą własnością są pary klucz:wartość (key:value) {'key1':'value1','key2':'value2'}.\n",
    "- Klucze muszą być unikalne - muszą to być typy nie modyfikowalne tzn string, liczba, tupla.\n",
    "- Wartości mogą mieć dowolny typ, w jednym słowniku możemy mieć wartości różnego typu"
   ]
  },
  {
   "cell_type": "markdown",
   "metadata": {},
   "source": [
    "Czym się różni słownik od listy?\n",
    "- W słowniku można odnaleźć wartość mając klucz - brak możliwości sortowania\n",
    "- W liście można odnaleźć wartość poprzez podanie jej lokalizacji - można sortować"
   ]
  },
  {
   "cell_type": "code",
   "execution_count": 20,
   "metadata": {},
   "outputs": [],
   "source": [
    "# Przykład słownika - Tabela kodonów dla mRNA\n",
    "# Kluczem są kodony, aminokwas kodowany przez dany kodon umieszczono jako wartość\n",
    "kodony = {'UUU':'fenyloalanina','UUC':'fenyloalanina','UUA':'leucyna','UUG':'leucyna','CUU':'leucynax','CUC':'leucyna','CUA':'leucyna','CUG':'leucyna'}\n",
    "\n",
    "# Kluczem są aminokwasy - wszystkie znane kodony są zamieszczone w formie listy jako wartość\n",
    "aminokwasy = {'fenyloalanina':['UUU','UUC'],'leucyna':['UUA','UUG','CUU','CUC','CUA','CUG']}"
   ]
  },
  {
   "cell_type": "code",
   "execution_count": 14,
   "metadata": {},
   "outputs": [
    {
     "name": "stdout",
     "output_type": "stream",
     "text": [
      "['UUA', 'UUG', 'CUU', 'CUC', 'CUA', 'CUG']\n",
      "6\n"
     ]
    }
   ],
   "source": [
    "# Otrzymanie wartości na podstawie klucza wymaga użycia nawiasów kwadratowych\n",
    "print(aminokwasy['leucyna'])\n",
    "\n",
    "# Długość wartości - tutaj dostaniemy ilość elementów w liście czyli liczbę kodonów dla leucyny\n",
    "print(len(aminokwasy['leucyna']))"
   ]
  },
  {
   "cell_type": "code",
   "execution_count": 15,
   "metadata": {},
   "outputs": [
    {
     "data": {
      "text/plain": [
       "2"
      ]
     },
     "execution_count": 15,
     "metadata": {},
     "output_type": "execute_result"
    }
   ],
   "source": [
    "# Ilość kluczy w słowniku\n",
    "len(aminokwasy)"
   ]
  },
  {
   "cell_type": "code",
   "execution_count": 18,
   "metadata": {},
   "outputs": [
    {
     "name": "stdout",
     "output_type": "stream",
     "text": [
      "dict_items([('UUU', 'fenyloalanina'), ('UUC', 'fenyloalanina'), ('UUA', 'leucyna'), ('UUG', 'leucyna'), ('CUU', 'leucyna'), ('CUC', 'leucyna'), ('CUA', 'leucyna'), ('CUG', 'leucyna')])\n"
     ]
    }
   ],
   "source": [
    "# Wyświetlanie wszystkich kluczy, wartości oraz par w słowniku\n",
    "#print(kodony.keys())\n",
    "#print(kodony.values())\n",
    "print(kodony.items())"
   ]
  },
  {
   "cell_type": "code",
   "execution_count": 21,
   "metadata": {},
   "outputs": [
    {
     "name": "stdout",
     "output_type": "stream",
     "text": [
      "leucyna\n"
     ]
    }
   ],
   "source": [
    "# Zmiana wartości w słowniku wg klucza\n",
    "kodony['CUU']='leucyna'\n",
    "print(kodony['CUU'])"
   ]
  },
  {
   "cell_type": "code",
   "execution_count": 22,
   "metadata": {},
   "outputs": [
    {
     "name": "stdout",
     "output_type": "stream",
     "text": [
      "{'leucyna': ['UUA', 'UUG', 'CUU', 'CUC', 'CUA', 'CUG']}\n"
     ]
    }
   ],
   "source": [
    "# Usunięcie pozycji ze słownika wg klucza\n",
    "aminokwasy.pop('fenyloalanina')\n",
    "print(aminokwasy)"
   ]
  },
  {
   "cell_type": "code",
   "execution_count": 6,
   "metadata": {},
   "outputs": [
    {
     "data": {
      "text/plain": [
       "{'leucyna': ['UUA', 'UUG', 'CUU', 'CUC', 'CUA', 'CUG'],\n",
       " 'izoleucyna': ['AUU', 'AUC', 'AUA']}"
      ]
     },
     "execution_count": 6,
     "metadata": {},
     "output_type": "execute_result"
    }
   ],
   "source": [
    "# Dodawanie nowej pary klucz : wartość - tej samej metody możemy użyć dla zmiany istniejącej pary\n",
    "aminokwasy['izoleucyna']=['AUU','AUC','AUA']\n",
    "aminokwasy"
   ]
  },
  {
   "cell_type": "code",
   "execution_count": 23,
   "metadata": {},
   "outputs": [
    {
     "name": "stdout",
     "output_type": "stream",
     "text": [
      "['UUA', 'UUG', 'CUU', 'CUC', 'CUA', 'CUG']\n",
      "UUG\n",
      "uug\n"
     ]
    }
   ],
   "source": [
    "# Jak odzyskać poszczególne elementy z listy która jest podana jako wartość słownika?\n",
    "# 1. Sprawdzamy jaka wartość kryje się pod kluczem\n",
    "print(aminokwasy['leucyna'])\n",
    "\n",
    "# 2. Pobieramy kodon UUG, który jest 2 elementem w liście\n",
    "print(aminokwasy['leucyna'][1])\n",
    "\n",
    "# Jak wyżej, ale dodatkowo zamieniamy małe litery na duże\n",
    "print(aminokwasy['leucyna'][1].lower())"
   ]
  },
  {
   "cell_type": "markdown",
   "metadata": {},
   "source": [
    "#### Ćwiczenie 4.2 Utwórz słownik, który zwierał będzie trzy wybrane angielskie słowa razem z polskim tłumaczeniem, a następnie:\n",
    "- A. Dodaj pozycję \"autor\", która zawierać będzie Twoje imię i nazwisko pod postacią listy\n",
    "- B. Usuń drugie z dodanych słów ze słownika\n",
    "- C. Zmień tłumaczenie pierwszego słowa na synonim\n",
    "- D. Utwórz słownik polsko-angielski, który będzie tłumaczeniem posiadanego słownika.\n",
    "- E. Połącz dwa posiadane słowniki w jeden\n",
    "- F. Zwróć wszystkie klucze z połączonego słownika"
   ]
  },
  {
   "cell_type": "code",
   "execution_count": 24,
   "metadata": {},
   "outputs": [
    {
     "name": "stdout",
     "output_type": "stream",
     "text": [
      "dict_keys(['forest', 'anger', 'autor', 'las', 'złość'])\n"
     ]
    }
   ],
   "source": [
    "# Zadanie 4.2 Rozwiązanie\n",
    "ang = {'forest':'las','prohibition':'zakaz','anger':'złość'}\n",
    "ang['autor']=['Wioleta','Drobik']\n",
    "ang.pop('prohibition')\n",
    "ang['forest']='knieja'\n",
    "pol = {'las':'forest','złość':'anger'}\n",
    "ang.update(pol)\n",
    "print(ang.keys())"
   ]
  },
  {
   "cell_type": "markdown",
   "metadata": {},
   "source": [
    "## Zbiory\n",
    "Są kolekcją zmiennych bez określonej kolejności, w związku z tym nie można ich sortować ani indeksować. Wszystkie elementy muszą być unikalne. Podobnie jak słowniki wykorzystują nawiasy klamrowe {} jednak nie posiadają par klucz:wartość"
   ]
  },
  {
   "cell_type": "code",
   "execution_count": 25,
   "metadata": {},
   "outputs": [
    {
     "name": "stdout",
     "output_type": "stream",
     "text": [
      "{1}\n"
     ]
    }
   ],
   "source": [
    "# Tworzenie zbioru\n",
    "zbior = set()\n",
    "\n",
    "# Dodawanie elementów do zbioru\n",
    "zbior.add(1)\n",
    "print(zbior)"
   ]
  },
  {
   "cell_type": "code",
   "execution_count": 26,
   "metadata": {},
   "outputs": [
    {
     "name": "stdout",
     "output_type": "stream",
     "text": [
      "{1, 2}\n"
     ]
    }
   ],
   "source": [
    "# Dodawanie kolejnego elementu\n",
    "zbior.add(2)\n",
    "print(zbior)"
   ]
  },
  {
   "cell_type": "code",
   "execution_count": 31,
   "metadata": {},
   "outputs": [
    {
     "name": "stdout",
     "output_type": "stream",
     "text": [
      "{1, 2}\n"
     ]
    }
   ],
   "source": [
    "# Próba dodania elementu, który już istnieje - ponieważ może być tylko jedna dwójka nic się nie zmieni\n",
    "zbior.add(2)\n",
    "print(zbior)"
   ]
  },
  {
   "cell_type": "code",
   "execution_count": 32,
   "metadata": {},
   "outputs": [
    {
     "name": "stdout",
     "output_type": "stream",
     "text": [
      "{'T', 'C', 'G', 'A'}\n",
      "{'', 'CTCTGGC', 'GTG', 'GT', 'G', 'CCTTTC', 'GTTTTGG', 'GTTC', 'GTTTCG', 'T'}\n"
     ]
    }
   ],
   "source": [
    "# Zbiory są wykorzystywane najczęściej do otrzymania unikalnych elementów tekstu lub listy\n",
    "dna=\"AGAAGTGAGTTTTGGATAGTAGAATAAAGTTTCGAACTCTGGCACCTTTCAAAGTTC\"\n",
    "\n",
    "# Zamieniamy sekwencję DNA na zbiór\n",
    "zbior2 = set(dna)\n",
    "print(zbior2)\n",
    "\n",
    "# Zamieniamy sekwencję DNA na zbiór najpierw dzieląc tekst po 'A'\n",
    "print(set(dna.split('A')))"
   ]
  },
  {
   "cell_type": "code",
   "execution_count": 27,
   "metadata": {},
   "outputs": [
    {
     "name": "stdout",
     "output_type": "stream",
     "text": [
      "{1, 2, 'C', 'G', 'T', 'A'}\n",
      "{1, 2, 'C', 'G', 'T', 'A'}\n"
     ]
    }
   ],
   "source": [
    "# Dwa sposoby na łączenie zbiorów\n",
    "print(zbior.union(zbior2))\n",
    "print(zbior | zbior2)"
   ]
  },
  {
   "cell_type": "markdown",
   "metadata": {},
   "source": [
    "#### Zadanie 4.3. Dla poniższej sekwencji białkowej\n",
    "- A. Sprawdź ile różnych aminokwasów zawiera sekwencja\n",
    "- B. Korzystając z pętli for i zbioru napisz program, który policzy ile razy dany aminokwas pojawia się w sekwencji. Wyniki zapisz do słownika, w którym symbol aminokwasu jest kluczem a liczba jego powtórzeń wartością.\n",
    "- C. Zwróć liczbę powtórzeń dla V i S\n",
    "- D. Ile razy pojawia się najczęściej występujący aminokwas?"
   ]
  },
  {
   "cell_type": "markdown",
   "metadata": {},
   "source": [
    "MAVGVFALAVLLAGLGAARAQGSCTLPDKVQNAELTEDASTMSSFPVGTTVSYTCRPG"
   ]
  },
  {
   "cell_type": "code",
   "execution_count": 33,
   "metadata": {},
   "outputs": [
    {
     "name": "stdout",
     "output_type": "stream",
     "text": [
      "S\n",
      "K\n",
      "F\n",
      "D\n",
      "A\n",
      "Y\n",
      "T\n",
      "M\n",
      "G\n",
      "R\n",
      "E\n",
      "N\n",
      "V\n",
      "C\n",
      "Q\n",
      "L\n",
      "P\n",
      "{'S': 5, 'K': 1, 'F': 2, 'D': 2, 'A': 9, 'Y': 1, 'T': 6, 'M': 2, 'G': 5, 'R': 2, 'E': 2, 'N': 1, 'V': 6, 'C': 2, 'Q': 2, 'L': 6, 'P': 3}\n",
      "6\n",
      "5\n"
     ]
    },
    {
     "data": {
      "text/plain": [
       "9"
      ]
     },
     "execution_count": 33,
     "metadata": {},
     "output_type": "execute_result"
    }
   ],
   "source": [
    "# 4.3 Rozwiązanie\n",
    "seq = 'MAVGVFALAVLLAGLGAARAQGSCTLPDKVQNAELTEDASTMSSFPVGTTVSYTCRP'\n",
    "\n",
    "# Punkt A\n",
    "aa = set(seq)\n",
    "len(aa)\n",
    "\n",
    "# Punkt B\n",
    "wyniki = {}\n",
    "for i in aa:\n",
    "    powt=seq.count(i)\n",
    "    wyniki[i]=powt\n",
    "    print(i)\n",
    "print(wyniki)\n",
    "\n",
    "# Punkt C\n",
    "print(wyniki['V'])\n",
    "print(wyniki['S'])\n",
    "\n",
    "# Punkt D\n",
    "max(wyniki.values())"
   ]
  }
 ],
 "metadata": {
  "kernelspec": {
   "display_name": "Python 3",
   "language": "python",
   "name": "python3"
  },
  "language_info": {
   "codemirror_mode": {
    "name": "ipython",
    "version": 3
   },
   "file_extension": ".py",
   "mimetype": "text/x-python",
   "name": "python",
   "nbconvert_exporter": "python",
   "pygments_lexer": "ipython3",
   "version": "3.7.4"
  }
 },
 "nbformat": 4,
 "nbformat_minor": 2
}
