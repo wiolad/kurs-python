{
 "cells": [
  {
   "cell_type": "markdown",
   "metadata": {},
   "source": [
    "## Ćwiczenia 4 - Kontrola przepływu"
   ]
  },
  {
   "cell_type": "markdown",
   "source": [
    "## Kontrola przepływu"
   ],
   "metadata": {
    "collapsed": false
   }
  },
  {
   "cell_type": "markdown",
   "metadata": {},
   "source": [
    "Jak sprawić żeby program wykonywał różne polecenia w zależności od postawionych warunków? Służą do tego wyrażenia kontroli przepływu: if, for, while. Instrukcja warunkowa if jest odpowiednikiem funkcji JEŻELI w excelu."
   ]
  },
  {
   "cell_type": "markdown",
   "metadata": {},
   "source": [
    "### Ważne!\n",
    "Wszystkie wyrażenia kontroli przepływu w Pythonie stosują wcięcia. Bloki kodu nie posiadają tu sprecyzowanych początków i końców ani żadnych nawiasów służących do zaznaczania, gdzie blok się zaczyna, a gdzie kończy. Jedynym separatorem jest dwukropek ':' i wcięcia kodu. Przez \"blok kodu\" rozumiemy między innymi funkcje, wyrażenia warunkowe if, pętle for oraz while."
   ]
  },
  {
   "cell_type": "markdown",
   "metadata": {},
   "source": [
    "### Wyrażenia warunkowe - if else"
   ]
  },
  {
   "cell_type": "markdown",
   "metadata": {},
   "source": [
    "Jeżeli warunek jest prawdziwy, uruchamiamy blok operacji (blok if), w przeciwnym wypadku wywołujemy inny blok (blok else). Wyrażenie warunkowe musi zawierać co najmniej jeden blok if, natomiast blok else jest opcjonalny."
   ]
  },
  {
   "cell_type": "code",
   "execution_count": null,
   "metadata": {},
   "outputs": [],
   "source": [
    "# Sprawdźmy czy liczba jest parzysta\n",
    "liczba = 7                               #Pod zmienną \"liczba\" zapisujemy liczbę 5\n",
    "if liczba % 2 == 0:                      #Sprawdzamy warunek: czy reszta z dzielenia (%) przez 2 jest równa (==) zero\n",
    "    print('liczba jest parzysta')        #Jeżeli warunek jest spełniony program wydrukuje w konsoli: liczba jest parzysta\n",
    "else:\n",
    "    print('liczba jest nieparzysta')     #Jeżeli warunek nie jest spełniony program wydrukuje w konsoli: liczba jest nieparzysta"
   ]
  },
  {
   "cell_type": "code",
   "execution_count": null,
   "metadata": {},
   "outputs": [],
   "source": [
    "# Ten kod będzie również działał, ale jeżeli warunek nie będzie spełniony nie zobaczymy żadnego wyniku\n",
    "liczba = 7                               \n",
    "if liczba % 2 == 0:\n",
    "    print('liczba jest parzysta')"
   ]
  },
  {
   "cell_type": "markdown",
   "metadata": {},
   "source": [
    "Zwróć uwagę na wcięcie w linijce następującej po warunku if, po dwukropku. Poniższy kod wygeneruje błąd \"expected an indented block\". Oznacza to właśnie, że brakuje wcięcia. Pisząc instrukcję warunkową w jupyter notebook, kończąć ją dwukropkiem, kiedy naciśniemy ENTER wcięcie powinno pojawić się automatycznie, tutaj zostało celowo skasowane."
   ]
  },
  {
   "cell_type": "code",
   "execution_count": null,
   "metadata": {},
   "outputs": [],
   "source": [
    "liczba = 6                               \n",
    "if liczba % 2 == 0:                     \n",
    "    print('liczba jest parzysta')"
   ]
  },
  {
   "cell_type": "markdown",
   "metadata": {},
   "source": [
    "#### Ćwiczenie 3.1: Napisz instrukcję warunkową, która sprawdza czy sekwencja DNA zawiera sekwencje 'AGT' po czym zwraca ich liczbę oraz tekst z informacją w przypadku ich braku\n",
    "Podpowiedź: do zliczania wystąpień fragmentów tekstu można użyć funkcji count. Wynik funkcji najlepiej zapisać pod zmienną.\n",
    "- sekwencja DNA: ACCTGAGTGATGATGCCATGAAGTCCATGAATAAGTGACAATGACAGTACTAG"
   ]
  },
  {
   "cell_type": "markdown",
   "metadata": {},
   "source": [
    "#### Bardziej rozbudowane instrukcje warunkowe"
   ]
  },
  {
   "cell_type": "code",
   "execution_count": null,
   "metadata": {},
   "outputs": [],
   "source": [
    "# Więcej bloków else?\n",
    "a=3                                       #Pod zmienną \"a\" zapisujemy liczbę 3\n",
    "if a < 2:                                 #Sprawdzamy czy a jest mniejsze od 2\n",
    "    print('a jest mniejsze niż 2')        #Jeżeli warunek jest spełniony pojawi się tekst 'a jest mniejsze niż 2'\n",
    "elif a >= 2 and a <=5:                    #Jeżeli warunek nie jest spełniony zostanie rozpatrzony kolejny, czyli czy a jest większe równe 2 oraz czy jest mniejsze równe 5\n",
    "    print('a jest równe między 2 a 5')    #Jeżeli warunek jest spełniony pojawi się tekst 'a jest równe między 2 a 5'\n",
    "else:                                     #Jeżeli żaden z warunków po if lub elif nie jest spełniony wykonana zostanie instrukcja w następnej linijce\n",
    "    print('a jest równe więcej niż 5')\n",
    "    "
   ]
  },
  {
   "cell_type": "code",
   "execution_count": null,
   "metadata": {},
   "outputs": [],
   "source": [
    "# Ważne! W powyższym przykładzie zastosowano operator logiczny 'and'. Wynikiem wyrażenia będzie True jeżeli obydwa warunki dają True\n",
    "# Alterantywą może być użycie operatora logicznego 'or'. Wynikiem wyrażenia będzie True jeżeli co najmniej jeden warunek daje True\n",
    "# Przykład:\n",
    "a = 5\n",
    "print(a < 10 and a > 6)\n",
    "print(a < 10 or a > 6)"
   ]
  },
  {
   "cell_type": "markdown",
   "metadata": {},
   "source": [
    "#### Ćwiczenie 3.2: Napisz instrukcję warunkową, która sprawdza czy sekwencja DNA z ćwiczenia 1 zawiera ciąg 'AGT' i zwraca ich liczbę oraz ma ponad 20 nukleotydów długości. Polecenie wykonaj korzystając z instrukcji elif - uwzględnij każdą ewentualność, także brak sekwencji 'AGT'"
   ]
  },
  {
   "cell_type": "markdown",
   "metadata": {},
   "source": [
    "## Pętla while"
   ]
  },
  {
   "cell_type": "markdown",
   "metadata": {},
   "source": [
    "Pozwala na kilkukrotne wywołanie bloku poleceń, tak długo jak warunek będzie spełniony tzn zwróci wartość logiczną True"
   ]
  },
  {
   "cell_type": "code",
   "execution_count": null,
   "metadata": {},
   "outputs": [],
   "source": [
    "liczba=1                      #Pod zmienną liczba zapisujemy liczbę 1\n",
    "\n",
    "while liczba <= 10:          #1. Sprawdzamy czy zmienna liczba jest mniejsza równa 10 \n",
    "    print(liczba)            #2. Drukujemy zmienną liczba do konsoli \n",
    "    liczba+=1                #3. Zwiększamy wartość zmiennej liczba o 1, po czym wracamy do punktu 1 i jeszcze raz sprawdzamy warunkek\n",
    "\n",
    "print(liczba)\n",
    "# liczba = liczba + 1\n",
    "# Petla przestanie wykonywać blok kodu po dwukropku w momencie kiedy wyrażenie liczba <= 10 zwróci FALSE czyli liczba będzie większa od 10"
   ]
  },
  {
   "cell_type": "markdown",
   "metadata": {},
   "source": [
    "#### Ćwiczenie 3.3: Stwórz pętle, która losowo dodaje kolejne nukleotydy do sekwencji DNA dopóki nie przekroczy ona 200 pz. Zacznij od sekwencji AATCG"
   ]
  },
  {
   "cell_type": "code",
   "execution_count": 11,
   "metadata": {},
   "outputs": [
    {
     "data": {
      "text/plain": [
       "1"
      ]
     },
     "execution_count": 11,
     "metadata": {},
     "output_type": "execute_result"
    }
   ],
   "source": [
    "# Podpowiedź: do losowania z listy zawierającej nukleotydy możesz użyć funckji random.choice, poniżej przykład:\n",
    "# Funkcja random.choice losowo wybiera element listy i nie znajduje się w bibliotece standardowej\n",
    "# Wymaga zaimportowania biblioteki random, w której znajduje się wiele metod do losowania. Do wczytywania biblioteki używamy \"import\" oraz nazwy biblioteki jak poniżej\n",
    "lista = [4,3,2,4,1,6,7,8]\n",
    "import random\n",
    "random.choice(lista)\n",
    "\n",
    "# Wywołaj tą komórkę kilka razy, uzyskane liczby poiwnny sie zmieniać"
   ]
  },
  {
   "cell_type": "markdown",
   "metadata": {},
   "source": [
    "## Pętla for"
   ]
  },
  {
   "cell_type": "markdown",
   "metadata": {},
   "source": [
    "Wypełnia blok poleceń określoną ilość razy. Często korzysta z funkcji range. Funkcja range zwraca nową tablicę wg wzoru range(start, stop, step) "
   ]
  },
  {
   "cell_type": "code",
   "execution_count": null,
   "metadata": {},
   "outputs": [],
   "source": [
    "for i in range(1,8):            # Dla każdego i w zakresie od 1 do 8\n",
    "    print(i)                    # pokaż i"
   ]
  },
  {
   "cell_type": "code",
   "execution_count": null,
   "metadata": {},
   "outputs": [],
   "source": [
    "# Często chcemy iterować po liście - za pomocą pętpli for możemy wykonać blok poleceń dla każdego elementu listy\n",
    "lista = ['a','b','c']\n",
    "for i in lista:              # dla każdego i w lista\n",
    "    print(i)                 # pokaż i "
   ]
  },
  {
   "cell_type": "markdown",
   "metadata": {},
   "source": [
    "Literki 'i' używamy zwyczajowo od angielskiego iterate i łacińskiego iteratio, które oznacza czynność powtarzania tej samej operacji. Dla składni użyta nazwa nie ma żadnego znaczenia, ważne żeby w obrębie pętli używać tego samego wyrażenia."
   ]
  },
  {
   "cell_type": "code",
   "execution_count": null,
   "metadata": {},
   "outputs": [],
   "source": [
    "# Przykładowa lista\n",
    "sekwencje = ['AAGT', 'ACCAAA', 'TGTGTAAGG', 'GGTGTAAA', 'TTTTGACCC'] \n",
    "\n",
    "# Długość sekwencji i zliczanie tymin:\n",
    "for seq in sekwencje:\n",
    "    print(\"Sekwencja \"+ seq +\" ma długość \"+str(len(seq))+ \" pz i zawiera \" + str(seq.count('A')) + \" tyminy\")"
   ]
  },
  {
   "cell_type": "markdown",
   "metadata": {},
   "source": [
    "#### Instrukcje warunkowe i pętle"
   ]
  },
  {
   "cell_type": "code",
   "execution_count": 1,
   "metadata": {},
   "outputs": [
    {
     "name": "stdout",
     "output_type": "stream",
     "text": [
      "znaleziono a!\n",
      "znaleziono a!\n"
     ]
    }
   ],
   "source": [
    "# Przykład\n",
    "lista = ['a','b','c','c','4','6','a']\n",
    "for i in lista:                   # dla każdego i w lista\n",
    "    if i=='a':                    # sprawdz czy i jest równe 'a'\n",
    "        print('znaleziono a!')    # jeżeli tak, pokaż w konsoli tekst 'znaleziono a' "
   ]
  },
  {
   "cell_type": "markdown",
   "metadata": {},
   "source": [
    "#### Ćwiczenie 3.4: Stwórz listę zawierającą 5 dowolnych imion a następnie:\n",
    "- A. Wyświetl je wszystkie po kolej za pomocą pętli for\n",
    "- B. Do pętli dodaj warunek - jeżeli imię jest dłuższe niż 5 znaków zwróć taką informację w konsoli. Informację zwróć pełnym zdaniem np Imię Jacek ma 5 liter"
   ]
  },
  {
   "cell_type": "markdown",
   "source": [
    "#### Ćw 3.5. W ciągu fibonacciego każdy kolejny wyraz jest sumą dwóch poprzednich. Zaczynamy od F1 = 1 oraz F2 =1.  Wzór: Fn=Fn−1+Fn−2. Kilka pierwszych wyrazów:\n",
    "- pierwszy wyraz ciągu (F1) = 1\n",
    "- drugi wyraz ciągu (F2) = 1\n",
    "- trzeci wyraz ciągu  (F3) = 2 (suma F1 + F2)\n",
    "- czwarty wyraz ciągu (F4) = 3 (suma F2 i F3)   itd...\n",
    "\n",
    "##### A. Korzystając z pętli while zapisz do listy kolejne wyrazy ciągu fibonacciego, tak aby ostatni wyraz ciągu był nie większy niż 10000\n",
    "##### B. Korzystając z pętli for zapisz do listy pierwsze 20 wyrazów ciągu fibonacciego"
   ],
   "metadata": {
    "collapsed": false
   }
  },
  {
   "cell_type": "markdown",
   "source": [
    "#### Instrukcja Match-Case\n",
    "Dostępna od wersji Pythona 3.10\n",
    "Przydatna, kiedy mamy dużo warunków"
   ],
   "metadata": {
    "collapsed": false
   }
  },
  {
   "cell_type": "code",
   "execution_count": 2,
   "outputs": [
    {
     "ename": "SyntaxError",
     "evalue": "invalid syntax (4251186111.py, line 2)",
     "output_type": "error",
     "traceback": [
      "\u001B[1;36m  File \u001B[1;32m\"C:\\Users\\wiole\\AppData\\Local\\Temp\\ipykernel_11492\\4251186111.py\"\u001B[1;36m, line \u001B[1;32m2\u001B[0m\n\u001B[1;33m    match http_status:\u001B[0m\n\u001B[1;37m                    ^\u001B[0m\n\u001B[1;31mSyntaxError\u001B[0m\u001B[1;31m:\u001B[0m invalid syntax\n"
     ]
    }
   ],
   "source": [
    "http_status = 200\n",
    "match http_status:\n",
    "    case 200|201:\n",
    "        print('Sukces!')\n",
    "    case 400:\n",
    "        print('Nie znaleziono')\n",
    "    case 500|501:\n",
    "        print('Błąd serwera')\n",
    "    case _:\n",
    "        print('Nie rozpoznano odpowiedzi HTTP')"
   ],
   "metadata": {
    "collapsed": false
   }
  },
  {
   "cell_type": "code",
   "execution_count": null,
   "outputs": [],
   "source": [],
   "metadata": {
    "collapsed": false
   }
  }
 ],
 "metadata": {
  "kernelspec": {
   "display_name": "Python 3",
   "language": "python",
   "name": "python3"
  },
  "language_info": {
   "codemirror_mode": {
    "name": "ipython",
    "version": 3
   },
   "file_extension": ".py",
   "mimetype": "text/x-python",
   "name": "python",
   "nbconvert_exporter": "python",
   "pygments_lexer": "ipython3",
   "version": "3.7.4"
  }
 },
 "nbformat": 4,
 "nbformat_minor": 2
}
